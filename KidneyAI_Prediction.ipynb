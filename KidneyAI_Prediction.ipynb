{
  "cells": [
    {
      "cell_type": "markdown",
      "id": "f5ffb2bc",
      "metadata": {
        "id": "f5ffb2bc"
      },
      "source": [
        "# <span style=\"color:red\" font-size=30>Machine learning project</span>\n",
        "\n"
      ]
    },
    {
      "cell_type": "markdown",
      "id": "3ced9605",
      "metadata": {
        "id": "3ced9605"
      },
      "source": [
        "#### Import libraries."
      ]
    },
    {
      "cell_type": "code",
      "execution_count": 1,
      "id": "37afc0de",
      "metadata": {
        "colab": {
          "base_uri": "https://localhost:8080/"
        },
        "id": "37afc0de",
        "outputId": "4fb473e9-308d-4918-c30f-7bb36ba3cac9"
      },
      "outputs": [
        {
          "output_type": "stream",
          "name": "stdout",
          "text": [
            "Requirement already satisfied: plotly in /usr/local/lib/python3.11/dist-packages (5.24.1)\n",
            "Requirement already satisfied: tenacity>=6.2.0 in /usr/local/lib/python3.11/dist-packages (from plotly) (9.1.2)\n",
            "Requirement already satisfied: packaging in /usr/local/lib/python3.11/dist-packages (from plotly) (24.2)\n"
          ]
        }
      ],
      "source": [
        "import numpy as np\n",
        "import pandas as pd\n",
        "import matplotlib.pyplot as plt\n",
        "from numpy import isnan\n",
        "!pip install plotly\n",
        "import seaborn as sns\n",
        "import plotly.express as px\n",
        "from sklearn.preprocessing import LabelEncoder\n",
        "from sklearn import model_selection\n",
        "from sklearn.model_selection import StratifiedKFold, StratifiedShuffleSplit\n",
        "from sklearn.feature_selection import RFECV,SelectFromModel\n",
        "from sklearn.linear_model import LogisticRegression\n",
        "from sklearn.svm import SVR, SVC, LinearSVC\n",
        "from sklearn.metrics import classification_report\n",
        "from sklearn.metrics import confusion_matrix\n",
        "from sklearn.metrics import accuracy_score"
      ]
    },
    {
      "cell_type": "markdown",
      "id": "111d54f0",
      "metadata": {
        "id": "111d54f0"
      },
      "source": [
        "#### load dataset"
      ]
    },
    {
      "cell_type": "code",
      "execution_count": 2,
      "id": "a33f1650",
      "metadata": {
        "colab": {
          "base_uri": "https://localhost:8080/",
          "height": 211
        },
        "id": "a33f1650",
        "outputId": "fcc84d4f-8e58-4e04-b800-0d0145c06afc"
      },
      "outputs": [
        {
          "output_type": "error",
          "ename": "FileNotFoundError",
          "evalue": "[Errno 2] No such file or directory: 'chronic_kidney_disease.arff'",
          "traceback": [
            "\u001b[0;31m---------------------------------------------------------------------------\u001b[0m",
            "\u001b[0;31mFileNotFoundError\u001b[0m                         Traceback (most recent call last)",
            "\u001b[0;32m<ipython-input-2-89c7d79dbc16>\u001b[0m in \u001b[0;36m<cell line: 0>\u001b[0;34m()\u001b[0m\n\u001b[1;32m      1\u001b[0m \u001b[0mdata\u001b[0m \u001b[0;34m=\u001b[0m \u001b[0;34m[\u001b[0m\u001b[0;34m]\u001b[0m\u001b[0;34m\u001b[0m\u001b[0;34m\u001b[0m\u001b[0m\n\u001b[0;32m----> 2\u001b[0;31m \u001b[0;32mwith\u001b[0m \u001b[0mopen\u001b[0m\u001b[0;34m(\u001b[0m\u001b[0;34m'chronic_kidney_disease.arff'\u001b[0m\u001b[0;34m,\u001b[0m \u001b[0;34m\"r\"\u001b[0m\u001b[0;34m)\u001b[0m \u001b[0;32mas\u001b[0m \u001b[0mf\u001b[0m\u001b[0;34m:\u001b[0m\u001b[0;34m\u001b[0m\u001b[0;34m\u001b[0m\u001b[0m\n\u001b[0m\u001b[1;32m      3\u001b[0m     \u001b[0;32mfor\u001b[0m \u001b[0mline\u001b[0m \u001b[0;32min\u001b[0m \u001b[0mf\u001b[0m\u001b[0;34m:\u001b[0m\u001b[0;34m\u001b[0m\u001b[0;34m\u001b[0m\u001b[0m\n\u001b[1;32m      4\u001b[0m         \u001b[0mline\u001b[0m \u001b[0;34m=\u001b[0m \u001b[0mline\u001b[0m\u001b[0;34m.\u001b[0m\u001b[0mreplace\u001b[0m\u001b[0;34m(\u001b[0m\u001b[0;34m'\\n'\u001b[0m\u001b[0;34m,\u001b[0m \u001b[0;34m''\u001b[0m\u001b[0;34m)\u001b[0m\u001b[0;34m\u001b[0m\u001b[0;34m\u001b[0m\u001b[0m\n\u001b[1;32m      5\u001b[0m         \u001b[0mdata\u001b[0m\u001b[0;34m.\u001b[0m\u001b[0mappend\u001b[0m\u001b[0;34m(\u001b[0m\u001b[0mline\u001b[0m\u001b[0;34m.\u001b[0m\u001b[0msplit\u001b[0m\u001b[0;34m(\u001b[0m\u001b[0;34m','\u001b[0m\u001b[0;34m)\u001b[0m\u001b[0;34m)\u001b[0m\u001b[0;34m\u001b[0m\u001b[0;34m\u001b[0m\u001b[0m\n",
            "\u001b[0;31mFileNotFoundError\u001b[0m: [Errno 2] No such file or directory: 'chronic_kidney_disease.arff'"
          ]
        }
      ],
      "source": [
        "data = []\n",
        "with open('chronic_kidney_disease.arff', \"r\") as f:\n",
        "    for line in f:\n",
        "        line = line.replace('\\n', '')\n",
        "        data.append(line.split(','))\n",
        "\n",
        "\n",
        "names = ['age', 'bp', 'sg', 'al', 'su', 'rbc', 'pc', 'pcc', 'ba',\n",
        "         'bgr', 'bu',  'sc', 'sod', 'pot', 'hemo', 'pcv', 'wbcc',\n",
        "         'rbcc', 'htn', 'dm', 'cad', 'appet', 'pe', 'ane',\n",
        "         'class', 'no_name']\n",
        "\n",
        "df = pd.DataFrame(data[29:], columns=names)"
      ]
    },
    {
      "cell_type": "code",
      "execution_count": null,
      "id": "2e72b4a7",
      "metadata": {
        "id": "2e72b4a7"
      },
      "outputs": [],
      "source": [
        "df"
      ]
    },
    {
      "cell_type": "markdown",
      "id": "750b84b1",
      "metadata": {
        "id": "750b84b1"
      },
      "source": [
        "# Data understanding"
      ]
    },
    {
      "cell_type": "code",
      "execution_count": null,
      "id": "7570a0e7",
      "metadata": {
        "id": "7570a0e7"
      },
      "outputs": [],
      "source": [
        "df.describe(include='all')"
      ]
    },
    {
      "cell_type": "code",
      "execution_count": null,
      "id": "3d5e9aaf",
      "metadata": {
        "id": "3d5e9aaf"
      },
      "outputs": [],
      "source": [
        "del df['no_name']"
      ]
    },
    {
      "cell_type": "code",
      "execution_count": null,
      "id": "9a8c45aa",
      "metadata": {
        "id": "9a8c45aa"
      },
      "outputs": [],
      "source": [
        "df.shape"
      ]
    },
    {
      "cell_type": "code",
      "execution_count": null,
      "id": "b75f4150",
      "metadata": {
        "id": "b75f4150"
      },
      "outputs": [],
      "source": [
        "df = df.drop(400)"
      ]
    },
    {
      "cell_type": "code",
      "execution_count": null,
      "id": "099847ea",
      "metadata": {
        "id": "099847ea"
      },
      "outputs": [],
      "source": [
        "df"
      ]
    },
    {
      "cell_type": "code",
      "execution_count": null,
      "id": "54a16bd6",
      "metadata": {
        "id": "54a16bd6"
      },
      "outputs": [],
      "source": [
        "df.isnull().sum()"
      ]
    },
    {
      "cell_type": "code",
      "execution_count": null,
      "id": "1bdb9353",
      "metadata": {
        "id": "1bdb9353"
      },
      "outputs": [],
      "source": [
        "df.isnull().values.any()"
      ]
    },
    {
      "cell_type": "markdown",
      "id": "80c2dc93",
      "metadata": {
        "id": "80c2dc93"
      },
      "source": [
        "# Data cleaning"
      ]
    },
    {
      "cell_type": "code",
      "execution_count": null,
      "id": "704184eb",
      "metadata": {
        "id": "704184eb"
      },
      "outputs": [],
      "source": [
        "df1=df.replace('?',np.NaN)"
      ]
    },
    {
      "cell_type": "code",
      "execution_count": null,
      "id": "c834c269",
      "metadata": {
        "id": "c834c269"
      },
      "outputs": [],
      "source": [
        "df1"
      ]
    },
    {
      "cell_type": "code",
      "execution_count": null,
      "id": "156c45ac",
      "metadata": {
        "id": "156c45ac"
      },
      "outputs": [],
      "source": [
        "df1.describe()"
      ]
    },
    {
      "cell_type": "code",
      "execution_count": null,
      "id": "12d0283b",
      "metadata": {
        "id": "12d0283b"
      },
      "outputs": [],
      "source": [
        "df1.isnull().sum()"
      ]
    },
    {
      "cell_type": "code",
      "execution_count": null,
      "id": "02cfbefd",
      "metadata": {
        "id": "02cfbefd"
      },
      "outputs": [],
      "source": [
        "df1.info()"
      ]
    },
    {
      "cell_type": "markdown",
      "id": "b38a02f9",
      "metadata": {
        "id": "b38a02f9"
      },
      "source": [
        "#### converting necessary columns to numerical type"
      ]
    },
    {
      "cell_type": "code",
      "execution_count": null,
      "id": "706e3f9f",
      "metadata": {
        "id": "706e3f9f"
      },
      "outputs": [],
      "source": [
        "df1['age'] = pd.to_numeric(df1['age'], errors='coerce')\n",
        "df1['bp'] = pd.to_numeric(df1['bp'], errors='coerce')\n",
        "df1['bgr'] = pd.to_numeric(df1['bgr'], errors='coerce')\n",
        "df1['sc'] = pd.to_numeric(df1['sc'], errors='coerce')\n",
        "df1['sod'] = pd.to_numeric(df1['sod'], errors='coerce')\n",
        "df1['pot'] = pd.to_numeric(df1['pot'], errors='coerce')\n",
        "df1['hemo'] = pd.to_numeric(df1['hemo'], errors='coerce')\n",
        "df1['pcv'] = pd.to_numeric(df1['pcv'], errors='coerce')\n",
        "df1['wbcc'] = pd.to_numeric(df1['wbcc'], errors='coerce')\n",
        "df1['rbcc'] = pd.to_numeric(df1['rbcc'], errors='coerce')\n",
        "df1['bu'] = pd.to_numeric(df1['bu'], errors='coerce')\n",
        "df1['sg'] = pd.to_numeric(df1['sg'], errors='coerce')\n",
        "df1['su'] = pd.to_numeric(df1['su'], errors='coerce')\n",
        "df1['al'] = pd.to_numeric(df1['al'], errors='coerce')"
      ]
    },
    {
      "cell_type": "code",
      "execution_count": null,
      "id": "5016eeaa",
      "metadata": {
        "scrolled": true,
        "id": "5016eeaa"
      },
      "outputs": [],
      "source": [
        "df1.info()"
      ]
    },
    {
      "cell_type": "markdown",
      "id": "9c21eef9",
      "metadata": {
        "id": "9c21eef9"
      },
      "source": [
        "# Feature engineering and selection"
      ]
    },
    {
      "cell_type": "code",
      "execution_count": null,
      "id": "4e14ef3a",
      "metadata": {
        "id": "4e14ef3a"
      },
      "outputs": [],
      "source": [
        "df1[['age','bp', 'bgr','bu','sc','sod','pot','hemo','pcv','wbcc','rbcc']] = df1[['age','bp', 'bgr','bu','sc','sod','pot','hemo','pcv','wbcc','rbcc']].fillna(df1[['age','bp', 'bgr','bu','sc','sod','pot','hemo','pcv','wbcc','rbcc']].median())\n"
      ]
    },
    {
      "cell_type": "code",
      "execution_count": null,
      "id": "81efe564",
      "metadata": {
        "id": "81efe564"
      },
      "outputs": [],
      "source": [
        "df1.isnull().sum()"
      ]
    },
    {
      "cell_type": "code",
      "execution_count": null,
      "id": "11430478",
      "metadata": {
        "scrolled": true,
        "id": "11430478"
      },
      "outputs": [],
      "source": [
        "df1=df1.replace('\t?',np.NaN)\n",
        "df1[['pcv','wbcc','rbcc']] = df1[['pcv','wbcc','rbcc']].fillna(df1[['pcv','wbcc','rbcc']].median())"
      ]
    },
    {
      "cell_type": "code",
      "execution_count": null,
      "id": "c69436ac",
      "metadata": {
        "id": "c69436ac"
      },
      "outputs": [],
      "source": [
        "df1.isnull().sum()"
      ]
    },
    {
      "cell_type": "code",
      "execution_count": null,
      "id": "e7f83bd3",
      "metadata": {
        "id": "e7f83bd3"
      },
      "outputs": [],
      "source": [
        "#IMPUTING MISSING CATEGORICAL VALUES\n",
        "#['sg','al','su','rbc','pc','pcc','ba','htn','dm','cad','appet','pe','ane']\n",
        "df1[['al']] = df1[['al']].fillna(df1['al'].mode()[0])\n",
        "df1[['su']] = df1[['su']].fillna(df1['su'].mode()[0])\n",
        "df1[['rbc']] = df1[['rbc']].fillna(df1['rbc'].mode()[0])\n",
        "df1[['pc']] = df1[['pc']].fillna(df1['pc'].mode()[0])\n",
        "df1[['ba']] = df1[['ba']].fillna(df1['ba'].mode()[0])\n",
        "df1['htn'] = df1['htn'].fillna(df1['htn'].mode()[0])\n",
        "df1['dm'] = df1['dm'].fillna(df1['dm'].mode()[0])\n",
        "df1['cad'] = df1['cad'].fillna(df1['cad'].mode()[0])\n",
        "df1['appet'] = df1['appet'].fillna(df1['appet'].mode()[0])\n",
        "df1['pe'] = df1['pe'].fillna(df1['pe'].mode()[0])\n",
        "df1['ane'] = df1['ane'].fillna(df1['ane'].mode()[0])\n",
        "df1[['pcc']] = df1[['pcc']].fillna(df1['pcc'].mode()[0])\n",
        "df1[['sg']] = df1[['sg']].fillna(df1['sg'].mode()[0])"
      ]
    },
    {
      "cell_type": "code",
      "execution_count": null,
      "id": "16d67df9",
      "metadata": {
        "id": "16d67df9"
      },
      "outputs": [],
      "source": [
        "df1.isnull().sum()"
      ]
    },
    {
      "cell_type": "code",
      "execution_count": null,
      "id": "b1bc5fbb",
      "metadata": {
        "id": "b1bc5fbb"
      },
      "outputs": [],
      "source": [
        "#replace incorrect values\n",
        "df1['dm'].replace(to_replace = {'\\tno':'no','\\tyes':'yes',' yes':'yes'},inplace=True)\n",
        "df1['cad'] = df1['cad'].replace(to_replace = '\\tno', value='no')"
      ]
    },
    {
      "cell_type": "code",
      "execution_count": null,
      "id": "e25f2354",
      "metadata": {
        "id": "e25f2354"
      },
      "outputs": [],
      "source": [
        "df1.isnull().sum()"
      ]
    },
    {
      "cell_type": "code",
      "execution_count": null,
      "id": "9cc29e5a",
      "metadata": {
        "id": "9cc29e5a"
      },
      "outputs": [],
      "source": [
        "# looking at unique values in categorical columns\n",
        "for col in df1:\n",
        "    print(f\"{col} has {df1[col].unique()} values\\n\")"
      ]
    },
    {
      "cell_type": "code",
      "execution_count": null,
      "id": "bd84c807",
      "metadata": {
        "id": "bd84c807"
      },
      "outputs": [],
      "source": [
        "\n",
        "# replace incorrect values\n",
        "df1['dm'] = df1['dm'].replace(to_replace = '', value=np.NaN)\n",
        "df1['appet'] = df1['appet'].replace(to_replace ='no', value=np.NaN)\n",
        "df1['pe'] = df1['pe'].replace(to_replace = 'good', value=np.NaN)\n",
        "df1['class'] = df1['class'].replace(to_replace = 'ckd\\t', value=np.NaN)\n",
        "df1['class'] = df1['class'].replace(to_replace = 'no', value=np.NaN)"
      ]
    },
    {
      "cell_type": "code",
      "execution_count": null,
      "id": "26e1184b",
      "metadata": {
        "scrolled": true,
        "id": "26e1184b"
      },
      "outputs": [],
      "source": [
        "# looking at unique values in categorical columns\n",
        "for col in df1:\n",
        "    print(f\"{col} has {df1[col].unique()} values\\n\")"
      ]
    },
    {
      "cell_type": "code",
      "execution_count": null,
      "id": "f75f001a",
      "metadata": {
        "id": "f75f001a"
      },
      "outputs": [],
      "source": [
        "#IMPUTING MISSING VALUES\n",
        "df1['dm'] = df1['dm'].fillna(df1['dm'].mode()[0])\n",
        "df1['appet'] = df1['appet'].fillna(df1['appet'].mode()[0])\n",
        "df1['pe'] = df1['pe'].fillna(df1['pe'].mode()[0])\n",
        "df1[['class']] = df1[['class']].fillna(df1['class'].mode()[0])"
      ]
    },
    {
      "cell_type": "code",
      "execution_count": null,
      "id": "40d47b18",
      "metadata": {
        "id": "40d47b18"
      },
      "outputs": [],
      "source": [
        "df1.info()"
      ]
    },
    {
      "cell_type": "code",
      "execution_count": null,
      "id": "20c7261c",
      "metadata": {
        "scrolled": true,
        "id": "20c7261c"
      },
      "outputs": [],
      "source": [
        "# looking at unique values in categorical columns\n",
        "for col in df1:\n",
        "    print(f\"{col} has {df1[col].unique()} values\\n\")"
      ]
    },
    {
      "cell_type": "code",
      "execution_count": null,
      "id": "eb646a9a",
      "metadata": {
        "id": "eb646a9a"
      },
      "outputs": [],
      "source": [
        "# Extracting categorical and numerical columns\n",
        "cat_cols = [col for col in df1.columns if df1[col].dtype == 'object']\n",
        "num_cols = [col for col in df1.columns if df1[col].dtype != 'object']\n",
        "num_cols"
      ]
    },
    {
      "cell_type": "markdown",
      "id": "e085029c",
      "metadata": {
        "id": "e085029c"
      },
      "source": [
        "#### There is some ambugity present in the columns we have to fix that."
      ]
    },
    {
      "cell_type": "code",
      "execution_count": null,
      "id": "632c5a36",
      "metadata": {
        "id": "632c5a36"
      },
      "outputs": [],
      "source": [
        "#Encoding\n",
        "df1['ane'] = df1['ane'].map({'no': 0, 'yes': 1})\n",
        "df1['ane'] = pd.to_numeric(df1['ane'], errors='coerce')\n",
        "df1['pe'] = df1['pe'].map({'no': 0, 'yes': 1})\n",
        "df1['pe'] = pd.to_numeric(df1['pe'], errors='coerce')\n",
        "df1['cad'] = df1['cad'].map({'no': 0, 'yes': 1})\n",
        "df1['cad'] = pd.to_numeric(df1['cad'], errors='coerce')\n",
        "df1['dm'] = df1['dm'].map({'no': 0, 'yes': 1})\n",
        "df1['dm'] = pd.to_numeric(df1['dm'], errors='coerce')\n",
        "df1['htn'] = df1['htn'].map({'no': 0, 'yes': 1})\n",
        "df1['htn'] = pd.to_numeric(df1['htn'], errors='coerce')\n",
        "df1['class'] = df1['class'].map({'ckd': 0, 'notckd': 1})\n",
        "df1['class'] = pd.to_numeric(df1['class'], errors='coerce')"
      ]
    },
    {
      "cell_type": "code",
      "execution_count": null,
      "id": "ab24ade8",
      "metadata": {
        "scrolled": true,
        "id": "ab24ade8"
      },
      "outputs": [],
      "source": [
        "for col in df1:\n",
        "    print(f\"{col} has {df1[col].unique()} values\\n\")"
      ]
    },
    {
      "cell_type": "code",
      "execution_count": null,
      "id": "55b9cb1a",
      "metadata": {
        "id": "55b9cb1a"
      },
      "outputs": [],
      "source": [
        "cat_cols1 = [col for col in df1.columns if df1[col].dtype == 'object']"
      ]
    },
    {
      "cell_type": "code",
      "execution_count": null,
      "id": "609a7f64",
      "metadata": {
        "id": "609a7f64"
      },
      "outputs": [],
      "source": [
        "cat_cols1"
      ]
    },
    {
      "cell_type": "markdown",
      "id": "70494afc",
      "metadata": {
        "id": "70494afc"
      },
      "source": [
        "#### As all of the categorical columns have 2 categories we can use label encoder"
      ]
    },
    {
      "cell_type": "code",
      "execution_count": null,
      "id": "b9f3d3ba",
      "metadata": {
        "id": "b9f3d3ba"
      },
      "outputs": [],
      "source": [
        "le = LabelEncoder()\n",
        "\n",
        "for col in cat_cols1:\n",
        "    df1[col] = le.fit_transform(df1[col])"
      ]
    },
    {
      "cell_type": "code",
      "execution_count": null,
      "id": "8c675a78",
      "metadata": {
        "scrolled": true,
        "id": "8c675a78"
      },
      "outputs": [],
      "source": [
        "df1.describe()"
      ]
    },
    {
      "cell_type": "code",
      "execution_count": null,
      "id": "f5baea7f",
      "metadata": {
        "id": "f5baea7f"
      },
      "outputs": [],
      "source": [
        "df1"
      ]
    },
    {
      "cell_type": "markdown",
      "id": "7dbd960f",
      "metadata": {
        "id": "7dbd960f"
      },
      "source": [
        "#### Normalisation"
      ]
    },
    {
      "cell_type": "code",
      "execution_count": null,
      "id": "a9ff7a15",
      "metadata": {
        "id": "a9ff7a15"
      },
      "outputs": [],
      "source": [
        "# Normalisation\n",
        "df1= df1.apply(lambda x: (x - x.min()) / (x.max() - x.min()))"
      ]
    },
    {
      "cell_type": "code",
      "execution_count": null,
      "id": "bd907e06",
      "metadata": {
        "scrolled": true,
        "id": "bd907e06"
      },
      "outputs": [],
      "source": [
        "df1"
      ]
    },
    {
      "cell_type": "markdown",
      "id": "a49d797b",
      "metadata": {
        "id": "a49d797b"
      },
      "source": [
        "### Detecting the outliers"
      ]
    },
    {
      "cell_type": "code",
      "execution_count": null,
      "id": "fa3e920d",
      "metadata": {
        "id": "fa3e920d"
      },
      "outputs": [],
      "source": [
        "g = sns.pairplot(df1, vars =['bp','bgr','bu','sc','sod','pot','hemo','pcv','wbcc','rbcc'],hue = 'class')\n",
        "g.map_diag(sns.distplot)\n",
        "g.add_legend()\n",
        "g.fig.suptitle('outliers plot', fontsize = 20)\n",
        "g.fig.subplots_adjust(top= 0.9);"
      ]
    },
    {
      "cell_type": "code",
      "execution_count": null,
      "id": "43a6738b",
      "metadata": {
        "scrolled": true,
        "id": "43a6738b"
      },
      "outputs": [],
      "source": [
        "sns.boxplot(x=df1[\"bgr\"],fliersize=10,orient=\"h\")"
      ]
    },
    {
      "cell_type": "code",
      "execution_count": null,
      "id": "4adcd3d6",
      "metadata": {
        "scrolled": true,
        "id": "4adcd3d6"
      },
      "outputs": [],
      "source": [
        "sns.boxplot(x=df1[\"bp\"],fliersize=10,orient=\"h\")"
      ]
    },
    {
      "cell_type": "code",
      "execution_count": null,
      "id": "ed707247",
      "metadata": {
        "scrolled": true,
        "id": "ed707247"
      },
      "outputs": [],
      "source": [
        "sns.boxplot(x=df1[\"bu\"],fliersize=10,orient=\"h\")"
      ]
    },
    {
      "cell_type": "code",
      "execution_count": null,
      "id": "ba9be79f",
      "metadata": {
        "scrolled": true,
        "id": "ba9be79f"
      },
      "outputs": [],
      "source": [
        "sns.boxplot(x=df1[\"sc\"],fliersize=10,orient=\"h\")"
      ]
    },
    {
      "cell_type": "code",
      "execution_count": null,
      "id": "4fec84a0",
      "metadata": {
        "scrolled": true,
        "id": "4fec84a0"
      },
      "outputs": [],
      "source": [
        "sns.boxplot(x=df1[\"sod\"],fliersize=10,orient=\"h\")"
      ]
    },
    {
      "cell_type": "code",
      "execution_count": null,
      "id": "f158ed6b",
      "metadata": {
        "scrolled": true,
        "id": "f158ed6b"
      },
      "outputs": [],
      "source": [
        "sns.boxplot(x=df1[\"pot\"],fliersize=10,orient=\"h\")"
      ]
    },
    {
      "cell_type": "code",
      "execution_count": null,
      "id": "8bd06721",
      "metadata": {
        "scrolled": true,
        "id": "8bd06721"
      },
      "outputs": [],
      "source": [
        "sns.boxplot(x=df1[\"hemo\"],fliersize=10,orient=\"h\")"
      ]
    },
    {
      "cell_type": "code",
      "execution_count": null,
      "id": "e4f80b90",
      "metadata": {
        "scrolled": true,
        "id": "e4f80b90"
      },
      "outputs": [],
      "source": [
        "sns.boxplot(x=df1[\"pcv\"],fliersize=10,orient=\"h\")"
      ]
    },
    {
      "cell_type": "code",
      "execution_count": null,
      "id": "bc78f3c9",
      "metadata": {
        "scrolled": true,
        "id": "bc78f3c9"
      },
      "outputs": [],
      "source": [
        "sns.boxplot(x=df1[\"wbcc\"],fliersize=10,orient=\"h\")"
      ]
    },
    {
      "cell_type": "code",
      "execution_count": null,
      "id": "1808d0e3",
      "metadata": {
        "scrolled": false,
        "id": "1808d0e3"
      },
      "outputs": [],
      "source": [
        "sns.boxplot(x=df1[\"rbcc\"],fliersize=10,orient=\"h\")"
      ]
    },
    {
      "cell_type": "markdown",
      "id": "8a622b39",
      "metadata": {
        "id": "8a622b39"
      },
      "source": [
        "### Fixing and dealing with the outliers"
      ]
    },
    {
      "cell_type": "code",
      "execution_count": null,
      "id": "53de849b",
      "metadata": {
        "id": "53de849b"
      },
      "outputs": [],
      "source": [
        "new_df1 = df1.copy()"
      ]
    },
    {
      "cell_type": "code",
      "execution_count": null,
      "id": "e291643c",
      "metadata": {
        "id": "e291643c"
      },
      "outputs": [],
      "source": [
        "for x in ['hemo']:\n",
        "    q75,q25 = np.percentile(new_df1.loc[:,x],[75,25])\n",
        "    intr_qr = q75-q25\n",
        "\n",
        "    max = q75+(1.5*intr_qr)\n",
        "    min = q25-(1.5*intr_qr)\n",
        "    #remplacer les out par nan\n",
        "    new_df1.loc[new_df1[x]<min,x]=new_df1['hemo'].mean()\n",
        "    new_df1.loc[new_df1[x]>max,x]=new_df1['hemo'].mean()"
      ]
    },
    {
      "cell_type": "code",
      "execution_count": null,
      "id": "26152320",
      "metadata": {
        "id": "26152320"
      },
      "outputs": [],
      "source": [
        "sns.boxplot(x=new_df1[\"hemo\"],fliersize=10,orient=\"h\")"
      ]
    },
    {
      "cell_type": "code",
      "execution_count": null,
      "id": "3c2cfa9d",
      "metadata": {
        "id": "3c2cfa9d"
      },
      "outputs": [],
      "source": [
        "for x in ['pot']:\n",
        "    q75,q25 = np.percentile(new_df1.loc[:,x],[75,25])\n",
        "    intr_qr = q75-q25\n",
        "\n",
        "    max = q75+(1.5*intr_qr)\n",
        "    min = q25-(1.5*intr_qr)\n",
        "    #remplacer les out par nan\n",
        "    new_df1.loc[new_df1[x]<min,x]=new_df1['pot'].mean()\n",
        "    new_df1.loc[new_df1[x]>max,x]=new_df1['pot'].mean()"
      ]
    },
    {
      "cell_type": "code",
      "execution_count": null,
      "id": "80f244da",
      "metadata": {
        "id": "80f244da"
      },
      "outputs": [],
      "source": [
        "sns.boxplot(x=new_df1[\"pot\"],fliersize=10,orient=\"h\")"
      ]
    },
    {
      "cell_type": "code",
      "execution_count": null,
      "id": "abfd7653",
      "metadata": {
        "id": "abfd7653"
      },
      "outputs": [],
      "source": [
        "for x in ['bp']:\n",
        "    q75,q25 = np.percentile(new_df1.loc[:,x],[75,25])\n",
        "    intr_qr = q75-q25\n",
        "\n",
        "    max = q75+(1.5*intr_qr)\n",
        "    min = q25-(1.5*intr_qr)\n",
        "    #remplacer les out par nan\n",
        "    new_df1.loc[new_df1[x]<min,x]=new_df1['bp'].mean()\n",
        "    new_df1.loc[new_df1[x]>max,x]=new_df1['bp'].mean()"
      ]
    },
    {
      "cell_type": "code",
      "execution_count": null,
      "id": "69400ee8",
      "metadata": {
        "id": "69400ee8"
      },
      "outputs": [],
      "source": [
        "sns.boxplot(x=new_df1[\"bp\"],fliersize=10,orient=\"h\")"
      ]
    },
    {
      "cell_type": "code",
      "execution_count": null,
      "id": "aba1490b",
      "metadata": {
        "id": "aba1490b"
      },
      "outputs": [],
      "source": [
        "for x in ['bgr']:\n",
        "    q75,q25 = np.percentile(new_df1.loc[:,x],[75,25])\n",
        "    intr_qr = q75-q25\n",
        "\n",
        "    max = q75+(1.5*intr_qr)\n",
        "    min = q25-(1.5*intr_qr)\n",
        "    #remplacer les out par nan\n",
        "    new_df1.loc[new_df1[x]<min,x]=new_df1['bgr'].mean()\n",
        "    new_df1.loc[new_df1[x]>max,x]=new_df1['bgr'].mean()"
      ]
    },
    {
      "cell_type": "code",
      "execution_count": null,
      "id": "cf6b17b4",
      "metadata": {
        "id": "cf6b17b4"
      },
      "outputs": [],
      "source": [
        "sns.boxplot(x=new_df1[\"bgr\"],fliersize=10,orient=\"h\")"
      ]
    },
    {
      "cell_type": "code",
      "execution_count": null,
      "id": "e9fc04bc",
      "metadata": {
        "id": "e9fc04bc"
      },
      "outputs": [],
      "source": [
        "for x in ['bu']:\n",
        "    q75,q25 = np.percentile(new_df1.loc[:,x],[75,25])\n",
        "    intr_qr = q75-q25\n",
        "\n",
        "    max = q75+(1.5*intr_qr)\n",
        "    min = q25-(1.5*intr_qr)\n",
        "    #remplacer les out par nan\n",
        "    new_df1.loc[new_df1[x]<min,x]=new_df1['bu'].mean()\n",
        "    new_df1.loc[new_df1[x]>max,x]=new_df1['bu'].mean()"
      ]
    },
    {
      "cell_type": "code",
      "execution_count": null,
      "id": "3eb890d3",
      "metadata": {
        "id": "3eb890d3"
      },
      "outputs": [],
      "source": [
        "sns.boxplot(x=new_df1[\"bu\"],fliersize=10,orient=\"h\")"
      ]
    },
    {
      "cell_type": "code",
      "execution_count": null,
      "id": "85e44d46",
      "metadata": {
        "id": "85e44d46"
      },
      "outputs": [],
      "source": [
        "for x in ['sc']:\n",
        "    q75,q25 = np.percentile(new_df1.loc[:,x],[75,25])\n",
        "    intr_qr = q75-q25\n",
        "\n",
        "    max = q75+(1.5*intr_qr)\n",
        "    min = q25-(1.5*intr_qr)\n",
        "    #remplacer les out par nan\n",
        "    new_df1.loc[new_df1[x]<min,x]=new_df1['sc'].mean()\n",
        "    new_df1.loc[new_df1[x]>max,x]=new_df1['sc'].mean()"
      ]
    },
    {
      "cell_type": "code",
      "execution_count": null,
      "id": "64a2dbd9",
      "metadata": {
        "id": "64a2dbd9"
      },
      "outputs": [],
      "source": [
        "sns.boxplot(x=new_df1[\"sc\"],fliersize=10,orient=\"h\")"
      ]
    },
    {
      "cell_type": "code",
      "execution_count": null,
      "id": "d05f3b09",
      "metadata": {
        "id": "d05f3b09"
      },
      "outputs": [],
      "source": [
        "for x in ['sod']:\n",
        "    q75,q25 = np.percentile(new_df1.loc[:,x],[75,25])\n",
        "    intr_qr = q75-q25\n",
        "\n",
        "    max = q75+(1.5*intr_qr)\n",
        "    min = q25-(1.5*intr_qr)\n",
        "    #remplacer les out par nan\n",
        "    new_df1.loc[new_df1[x]<min,x]=new_df1['sod'].mean()\n",
        "    new_df1.loc[new_df1[x]>max,x]=new_df1['sod'].mean()"
      ]
    },
    {
      "cell_type": "code",
      "execution_count": null,
      "id": "4d3daaa4",
      "metadata": {
        "id": "4d3daaa4"
      },
      "outputs": [],
      "source": [
        "sns.boxplot(x=new_df1[\"sod\"],fliersize=10,orient=\"h\")"
      ]
    },
    {
      "cell_type": "code",
      "execution_count": null,
      "id": "03bd03d7",
      "metadata": {
        "id": "03bd03d7"
      },
      "outputs": [],
      "source": [
        "for x in ['pcv']:\n",
        "    q75,q25 = np.percentile(new_df1.loc[:,x],[75,25])\n",
        "    intr_qr = q75-q25\n",
        "\n",
        "    max = q75+(1.5*intr_qr)\n",
        "    min = q25-(1.5*intr_qr)\n",
        "    #remplacer les out par nan\n",
        "    new_df1.loc[new_df1[x]<min,x]=new_df1['pcv'].mean()\n",
        "    new_df1.loc[new_df1[x]>max,x]=new_df1['pcv'].mean()\n"
      ]
    },
    {
      "cell_type": "code",
      "execution_count": null,
      "id": "77bb4a0c",
      "metadata": {
        "id": "77bb4a0c"
      },
      "outputs": [],
      "source": [
        "sns.boxplot(x=new_df1[\"pcv\"],fliersize=10,orient=\"h\")"
      ]
    },
    {
      "cell_type": "code",
      "execution_count": null,
      "id": "0a0b49c8",
      "metadata": {
        "id": "0a0b49c8"
      },
      "outputs": [],
      "source": [
        "for x in ['rbcc']:\n",
        "    q75,q25 = np.percentile(new_df1.loc[:,x],[75,25])\n",
        "    intr_qr = q75-q25\n",
        "\n",
        "    max = q75+(1.5*intr_qr)\n",
        "    min = q25-(1.5*intr_qr)\n",
        "    #remplacer les out par nan\n",
        "    new_df1.loc[new_df1[x]<min,x]=new_df1['rbcc'].mean()\n",
        "    new_df1.loc[new_df1[x]>max,x]=new_df1['rbcc'].mean()\n"
      ]
    },
    {
      "cell_type": "code",
      "execution_count": null,
      "id": "71099c15",
      "metadata": {
        "id": "71099c15"
      },
      "outputs": [],
      "source": [
        "sns.boxplot(x=new_df1[\"rbcc\"],fliersize=10,orient=\"h\")"
      ]
    },
    {
      "cell_type": "code",
      "execution_count": null,
      "id": "6cd76367",
      "metadata": {
        "id": "6cd76367"
      },
      "outputs": [],
      "source": [
        "for x in ['wbcc']:\n",
        "    q75,q25 = np.percentile(new_df1.loc[:,x],[75,25])\n",
        "    intr_qr = q75-q25\n",
        "\n",
        "    max = q75+(1.5*intr_qr)\n",
        "    min = q25-(1.5*intr_qr)\n",
        "    #remplacer les out par nan\n",
        "    new_df1.loc[new_df1[x]<min,x]=new_df1['wbcc'].mean()\n",
        "    new_df1.loc[new_df1[x]>max,x]=new_df1['wbcc'].mean()"
      ]
    },
    {
      "cell_type": "code",
      "execution_count": null,
      "id": "d15b694d",
      "metadata": {
        "id": "d15b694d"
      },
      "outputs": [],
      "source": [
        "sns.boxplot(x=new_df1[\"wbcc\"],fliersize=10,orient=\"h\")"
      ]
    },
    {
      "cell_type": "markdown",
      "id": "277e130a",
      "metadata": {
        "id": "277e130a"
      },
      "source": [
        "# Visualization"
      ]
    },
    {
      "cell_type": "code",
      "execution_count": 3,
      "id": "f9625ed1",
      "metadata": {
        "scrolled": true,
        "colab": {
          "base_uri": "https://localhost:8080/",
          "height": 228
        },
        "id": "f9625ed1",
        "outputId": "33d0aa11-505e-4a28-ccd1-8bbf263e4e97"
      },
      "outputs": [
        {
          "output_type": "error",
          "ename": "NameError",
          "evalue": "name 'cat_cols' is not defined",
          "traceback": [
            "\u001b[0;31m---------------------------------------------------------------------------\u001b[0m",
            "\u001b[0;31mNameError\u001b[0m                                 Traceback (most recent call last)",
            "\u001b[0;32m<ipython-input-3-2ddb76e6af96>\u001b[0m in \u001b[0;36m<cell line: 0>\u001b[0;34m()\u001b[0m\n\u001b[1;32m      4\u001b[0m \u001b[0mplotnumber\u001b[0m \u001b[0;34m=\u001b[0m \u001b[0;36m1\u001b[0m\u001b[0;34m\u001b[0m\u001b[0;34m\u001b[0m\u001b[0m\n\u001b[1;32m      5\u001b[0m \u001b[0;34m\u001b[0m\u001b[0m\n\u001b[0;32m----> 6\u001b[0;31m \u001b[0;32mfor\u001b[0m \u001b[0mcolumn\u001b[0m \u001b[0;32min\u001b[0m \u001b[0mcat_cols\u001b[0m\u001b[0;34m:\u001b[0m\u001b[0;34m\u001b[0m\u001b[0;34m\u001b[0m\u001b[0m\n\u001b[0m\u001b[1;32m      7\u001b[0m     \u001b[0;32mif\u001b[0m \u001b[0mplotnumber\u001b[0m \u001b[0;34m<=\u001b[0m \u001b[0;36m11\u001b[0m\u001b[0;34m:\u001b[0m\u001b[0;34m\u001b[0m\u001b[0;34m\u001b[0m\u001b[0m\n\u001b[1;32m      8\u001b[0m         \u001b[0max\u001b[0m \u001b[0;34m=\u001b[0m \u001b[0mplt\u001b[0m\u001b[0;34m.\u001b[0m\u001b[0msubplot\u001b[0m\u001b[0;34m(\u001b[0m\u001b[0;36m3\u001b[0m\u001b[0;34m,\u001b[0m \u001b[0;36m4\u001b[0m\u001b[0;34m,\u001b[0m \u001b[0mplotnumber\u001b[0m\u001b[0;34m)\u001b[0m\u001b[0;34m\u001b[0m\u001b[0;34m\u001b[0m\u001b[0m\n",
            "\u001b[0;31mNameError\u001b[0m: name 'cat_cols' is not defined"
          ]
        },
        {
          "output_type": "display_data",
          "data": {
            "text/plain": [
              "<Figure size 2000x1500 with 0 Axes>"
            ]
          },
          "metadata": {}
        }
      ],
      "source": [
        "# looking at categorical columns\n",
        "\n",
        "plt.figure(figsize = (20, 15))\n",
        "plotnumber = 1\n",
        "\n",
        "for column in cat_cols:\n",
        "    if plotnumber <= 11:\n",
        "        ax = plt.subplot(3, 4, plotnumber)\n",
        "        sns.countplot(df1[column], palette = 'husl')\n",
        "        plt.xlabel(column)\n",
        "\n",
        "    plotnumber += 1\n",
        "\n",
        "plt.tight_layout()\n",
        "plt.show()"
      ]
    },
    {
      "cell_type": "code",
      "execution_count": 4,
      "id": "4175634c",
      "metadata": {
        "scrolled": false,
        "colab": {
          "base_uri": "https://localhost:8080/",
          "height": 228
        },
        "id": "4175634c",
        "outputId": "8e7e6613-26ad-4540-a157-72314fd62ca5"
      },
      "outputs": [
        {
          "output_type": "error",
          "ename": "NameError",
          "evalue": "name 'num_cols' is not defined",
          "traceback": [
            "\u001b[0;31m---------------------------------------------------------------------------\u001b[0m",
            "\u001b[0;31mNameError\u001b[0m                                 Traceback (most recent call last)",
            "\u001b[0;32m<ipython-input-4-f1b2c206ab41>\u001b[0m in \u001b[0;36m<cell line: 0>\u001b[0;34m()\u001b[0m\n\u001b[1;32m      3\u001b[0m \u001b[0mplotnumber\u001b[0m \u001b[0;34m=\u001b[0m \u001b[0;36m1\u001b[0m\u001b[0;34m\u001b[0m\u001b[0;34m\u001b[0m\u001b[0m\n\u001b[1;32m      4\u001b[0m \u001b[0;34m\u001b[0m\u001b[0m\n\u001b[0;32m----> 5\u001b[0;31m \u001b[0;32mfor\u001b[0m \u001b[0mcolumn\u001b[0m \u001b[0;32min\u001b[0m \u001b[0mnum_cols\u001b[0m\u001b[0;34m:\u001b[0m\u001b[0;34m\u001b[0m\u001b[0;34m\u001b[0m\u001b[0m\n\u001b[0m\u001b[1;32m      6\u001b[0m     \u001b[0;32mif\u001b[0m \u001b[0mplotnumber\u001b[0m \u001b[0;34m<=\u001b[0m \u001b[0;36m14\u001b[0m\u001b[0;34m:\u001b[0m\u001b[0;34m\u001b[0m\u001b[0;34m\u001b[0m\u001b[0m\n\u001b[1;32m      7\u001b[0m         \u001b[0max\u001b[0m \u001b[0;34m=\u001b[0m \u001b[0mplt\u001b[0m\u001b[0;34m.\u001b[0m\u001b[0msubplot\u001b[0m\u001b[0;34m(\u001b[0m\u001b[0;36m3\u001b[0m\u001b[0;34m,\u001b[0m \u001b[0;36m5\u001b[0m\u001b[0;34m,\u001b[0m \u001b[0mplotnumber\u001b[0m\u001b[0;34m)\u001b[0m\u001b[0;34m\u001b[0m\u001b[0;34m\u001b[0m\u001b[0m\n",
            "\u001b[0;31mNameError\u001b[0m: name 'num_cols' is not defined"
          ]
        },
        {
          "output_type": "display_data",
          "data": {
            "text/plain": [
              "<Figure size 2000x1500 with 0 Axes>"
            ]
          },
          "metadata": {}
        }
      ],
      "source": [
        "# checking numerical features distribution\n",
        "plt.figure(figsize = (20, 15))\n",
        "plotnumber = 1\n",
        "\n",
        "for column in num_cols:\n",
        "    if plotnumber <= 14:\n",
        "        ax = plt.subplot(3, 5, plotnumber)\n",
        "        sns.distplot(df1[column])\n",
        "        plt.xlabel(column)\n",
        "\n",
        "    plotnumber += 1\n",
        "\n",
        "plt.tight_layout()\n",
        "plt.show()"
      ]
    },
    {
      "cell_type": "code",
      "execution_count": null,
      "id": "7bcf44d0",
      "metadata": {
        "id": "7bcf44d0"
      },
      "outputs": [],
      "source": [
        "my_labels =('chkn','notckd')\n",
        "ax = df1['class'].value_counts().plot(kind='pie', figsize=(12,12), autopct='%1.1f%%', labels=None)\n",
        "ax.axes.get_yaxis().set_visible(False)\n",
        "plt.legend(loc=5, labels=my_labels)"
      ]
    },
    {
      "cell_type": "markdown",
      "id": "c4951823",
      "metadata": {
        "id": "c4951823"
      },
      "source": [
        "# Feature selection"
      ]
    },
    {
      "cell_type": "code",
      "execution_count": 5,
      "id": "168b18e2",
      "metadata": {
        "colab": {
          "base_uri": "https://localhost:8080/",
          "height": 211
        },
        "id": "168b18e2",
        "outputId": "87249902-2fb6-4dcb-9ab0-c8d2fee8745e"
      },
      "outputs": [
        {
          "output_type": "error",
          "ename": "NameError",
          "evalue": "name 'df1' is not defined",
          "traceback": [
            "\u001b[0;31m---------------------------------------------------------------------------\u001b[0m",
            "\u001b[0;31mNameError\u001b[0m                                 Traceback (most recent call last)",
            "\u001b[0;32m<ipython-input-5-54b23d006e03>\u001b[0m in \u001b[0;36m<cell line: 0>\u001b[0;34m()\u001b[0m\n\u001b[1;32m      1\u001b[0m \u001b[0;31m#matrice de correlation\u001b[0m\u001b[0;34m\u001b[0m\u001b[0;34m\u001b[0m\u001b[0m\n\u001b[1;32m      2\u001b[0m \u001b[0mplt\u001b[0m\u001b[0;34m.\u001b[0m\u001b[0mfigure\u001b[0m\u001b[0;34m(\u001b[0m\u001b[0mfigsize\u001b[0m \u001b[0;34m=\u001b[0m \u001b[0;34m(\u001b[0m\u001b[0;36m15\u001b[0m\u001b[0;34m,\u001b[0m \u001b[0;36m8\u001b[0m\u001b[0;34m)\u001b[0m\u001b[0;34m)\u001b[0m\u001b[0;34m\u001b[0m\u001b[0;34m\u001b[0m\u001b[0m\n\u001b[0;32m----> 3\u001b[0;31m \u001b[0msns\u001b[0m\u001b[0;34m.\u001b[0m\u001b[0mheatmap\u001b[0m\u001b[0;34m(\u001b[0m\u001b[0mdf1\u001b[0m\u001b[0;34m.\u001b[0m\u001b[0mcorr\u001b[0m\u001b[0;34m(\u001b[0m\u001b[0;34m)\u001b[0m\u001b[0;34m,\u001b[0m \u001b[0mannot\u001b[0m \u001b[0;34m=\u001b[0m \u001b[0;32mTrue\u001b[0m\u001b[0;34m,\u001b[0m \u001b[0mlinewidths\u001b[0m \u001b[0;34m=\u001b[0m \u001b[0;36m2\u001b[0m\u001b[0;34m,\u001b[0m \u001b[0mlinecolor\u001b[0m \u001b[0;34m=\u001b[0m \u001b[0;34m'white'\u001b[0m\u001b[0;34m)\u001b[0m\u001b[0;34m\u001b[0m\u001b[0;34m\u001b[0m\u001b[0m\n\u001b[0m\u001b[1;32m      4\u001b[0m \u001b[0mplt\u001b[0m\u001b[0;34m.\u001b[0m\u001b[0mshow\u001b[0m\u001b[0;34m(\u001b[0m\u001b[0;34m)\u001b[0m\u001b[0;34m\u001b[0m\u001b[0;34m\u001b[0m\u001b[0m\n",
            "\u001b[0;31mNameError\u001b[0m: name 'df1' is not defined"
          ]
        },
        {
          "output_type": "display_data",
          "data": {
            "text/plain": [
              "<Figure size 1500x800 with 0 Axes>"
            ]
          },
          "metadata": {}
        }
      ],
      "source": [
        "#matrice de correlation\n",
        "plt.figure(figsize = (15, 8))\n",
        "sns.heatmap(df1.corr(), annot = True, linewidths = 2, linecolor = 'white')\n",
        "plt.show()"
      ]
    },
    {
      "cell_type": "code",
      "execution_count": 6,
      "id": "aa2da2a4",
      "metadata": {
        "colab": {
          "base_uri": "https://localhost:8080/",
          "height": 141
        },
        "id": "aa2da2a4",
        "outputId": "87d2619e-0908-49fd-e659-0a1873306c48"
      },
      "outputs": [
        {
          "output_type": "error",
          "ename": "NameError",
          "evalue": "name 'df1' is not defined",
          "traceback": [
            "\u001b[0;31m---------------------------------------------------------------------------\u001b[0m",
            "\u001b[0;31mNameError\u001b[0m                                 Traceback (most recent call last)",
            "\u001b[0;32m<ipython-input-6-6a861a8b3f1a>\u001b[0m in \u001b[0;36m<cell line: 0>\u001b[0;34m()\u001b[0m\n\u001b[0;32m----> 1\u001b[0;31m \u001b[0mdf1\u001b[0m\u001b[0;34m\u001b[0m\u001b[0;34m\u001b[0m\u001b[0m\n\u001b[0m",
            "\u001b[0;31mNameError\u001b[0m: name 'df1' is not defined"
          ]
        }
      ],
      "source": [
        "df1"
      ]
    },
    {
      "cell_type": "code",
      "execution_count": 7,
      "id": "c5ae8d06",
      "metadata": {
        "id": "c5ae8d06"
      },
      "outputs": [],
      "source": [
        "##target='class'"
      ]
    },
    {
      "cell_type": "code",
      "execution_count": 8,
      "id": "23644264",
      "metadata": {
        "colab": {
          "base_uri": "https://localhost:8080/",
          "height": 211
        },
        "id": "23644264",
        "outputId": "7893d88c-0d9e-4c72-a4ab-722ef2523aa2"
      },
      "outputs": [
        {
          "output_type": "error",
          "ename": "NameError",
          "evalue": "name 'df1' is not defined",
          "traceback": [
            "\u001b[0;31m---------------------------------------------------------------------------\u001b[0m",
            "\u001b[0;31mNameError\u001b[0m                                 Traceback (most recent call last)",
            "\u001b[0;32m<ipython-input-8-d234dc422345>\u001b[0m in \u001b[0;36m<cell line: 0>\u001b[0;34m()\u001b[0m\n\u001b[0;32m----> 1\u001b[0;31m \u001b[0my\u001b[0m \u001b[0;34m=\u001b[0m \u001b[0mdf1\u001b[0m\u001b[0;34m[\u001b[0m\u001b[0;34m'class'\u001b[0m\u001b[0;34m]\u001b[0m\u001b[0;34m\u001b[0m\u001b[0;34m\u001b[0m\u001b[0m\n\u001b[0m\u001b[1;32m      2\u001b[0m \u001b[0mX\u001b[0m \u001b[0;34m=\u001b[0m \u001b[0mdf1\u001b[0m\u001b[0;34m.\u001b[0m\u001b[0mloc\u001b[0m\u001b[0;34m[\u001b[0m\u001b[0;34m:\u001b[0m\u001b[0;34m,\u001b[0m \u001b[0mdf\u001b[0m\u001b[0;34m.\u001b[0m\u001b[0mcolumns\u001b[0m \u001b[0;34m!=\u001b[0m \u001b[0;34m'class'\u001b[0m\u001b[0;34m]\u001b[0m\u001b[0;34m\u001b[0m\u001b[0;34m\u001b[0m\u001b[0m\n\u001b[1;32m      3\u001b[0m \u001b[0;34m\u001b[0m\u001b[0m\n\u001b[1;32m      4\u001b[0m \u001b[0;34m\u001b[0m\u001b[0m\n\u001b[1;32m      5\u001b[0m \u001b[0;31m#checking for NA values\u001b[0m\u001b[0;34m\u001b[0m\u001b[0;34m\u001b[0m\u001b[0m\n",
            "\u001b[0;31mNameError\u001b[0m: name 'df1' is not defined"
          ]
        }
      ],
      "source": [
        "y = df1['class']\n",
        "X = df1.loc[:, df.columns != 'class']\n",
        "\n",
        "\n",
        "#checking for NA values\n",
        "X.isna().values.any()\n",
        "y.isna().values.any()"
      ]
    },
    {
      "cell_type": "code",
      "execution_count": 9,
      "id": "93614d8d",
      "metadata": {
        "colab": {
          "base_uri": "https://localhost:8080/",
          "height": 211
        },
        "id": "93614d8d",
        "outputId": "6f67d210-8c1f-4dbc-cac2-297d1eab96d6"
      },
      "outputs": [
        {
          "output_type": "error",
          "ename": "NameError",
          "evalue": "name 'X' is not defined",
          "traceback": [
            "\u001b[0;31m---------------------------------------------------------------------------\u001b[0m",
            "\u001b[0;31mNameError\u001b[0m                                 Traceback (most recent call last)",
            "\u001b[0;32m<ipython-input-9-4b4268abfaef>\u001b[0m in \u001b[0;36m<cell line: 0>\u001b[0;34m()\u001b[0m\n\u001b[1;32m      3\u001b[0m rfecv = RFECV(estimator=svc, step=1, cv=StratifiedKFold(3),\n\u001b[1;32m      4\u001b[0m               scoring='accuracy')\n\u001b[0;32m----> 5\u001b[0;31m \u001b[0mrfecv\u001b[0m\u001b[0;34m.\u001b[0m\u001b[0mfit\u001b[0m\u001b[0;34m(\u001b[0m\u001b[0mX\u001b[0m\u001b[0;34m,\u001b[0m \u001b[0my\u001b[0m\u001b[0;34m)\u001b[0m\u001b[0;34m\u001b[0m\u001b[0;34m\u001b[0m\u001b[0m\n\u001b[0m\u001b[1;32m      6\u001b[0m \u001b[0;34m\u001b[0m\u001b[0m\n\u001b[1;32m      7\u001b[0m \u001b[0mprint\u001b[0m\u001b[0;34m(\u001b[0m\u001b[0;34m\"Optimal number of features : %d\"\u001b[0m \u001b[0;34m%\u001b[0m \u001b[0mrfecv\u001b[0m\u001b[0;34m.\u001b[0m\u001b[0mn_features_\u001b[0m\u001b[0;34m)\u001b[0m\u001b[0;34m\u001b[0m\u001b[0;34m\u001b[0m\u001b[0m\n",
            "\u001b[0;31mNameError\u001b[0m: name 'X' is not defined"
          ]
        }
      ],
      "source": [
        "svc = SVC(kernel=\"linear\")\n",
        "\n",
        "rfecv = RFECV(estimator=svc, step=1, cv=StratifiedKFold(3),\n",
        "              scoring='accuracy')\n",
        "rfecv.fit(X, y)\n",
        "\n",
        "print(\"Optimal number of features : %d\" % rfecv.n_features_)\n",
        "\n",
        "# Plotting number of features and cross-validation scores\n",
        "plt.figure()\n",
        "plt.xlabel(\"Number of features selected\")\n",
        "plt.ylabel(\"Cross validation score (nb of correct classifications)\")\n",
        "plt.plot(range(1, len(rfecv.grid_scores_) + 1), rfecv.grid_scores_)\n",
        "plt.show()\n",
        "print(rfecv.ranking_)"
      ]
    },
    {
      "cell_type": "markdown",
      "id": "9c688ad4",
      "metadata": {
        "id": "9c688ad4"
      },
      "source": [
        "# Modeling"
      ]
    },
    {
      "cell_type": "markdown",
      "id": "b4d58e05",
      "metadata": {
        "id": "b4d58e05"
      },
      "source": [
        "### split data"
      ]
    },
    {
      "cell_type": "code",
      "execution_count": 10,
      "id": "d10e223f",
      "metadata": {
        "colab": {
          "base_uri": "https://localhost:8080/",
          "height": 211
        },
        "id": "d10e223f",
        "outputId": "40743550-061a-485c-f364-d5adef073f80"
      },
      "outputs": [
        {
          "output_type": "error",
          "ename": "NameError",
          "evalue": "name 'df1' is not defined",
          "traceback": [
            "\u001b[0;31m---------------------------------------------------------------------------\u001b[0m",
            "\u001b[0;31mNameError\u001b[0m                                 Traceback (most recent call last)",
            "\u001b[0;32m<ipython-input-10-7365ec03c85a>\u001b[0m in \u001b[0;36m<cell line: 0>\u001b[0;34m()\u001b[0m\n\u001b[0;32m----> 1\u001b[0;31m \u001b[0mind_col\u001b[0m \u001b[0;34m=\u001b[0m \u001b[0;34m[\u001b[0m\u001b[0mcol\u001b[0m \u001b[0;32mfor\u001b[0m \u001b[0mcol\u001b[0m \u001b[0;32min\u001b[0m \u001b[0mdf1\u001b[0m\u001b[0;34m.\u001b[0m\u001b[0mcolumns\u001b[0m \u001b[0;32mif\u001b[0m \u001b[0mcol\u001b[0m \u001b[0;34m!=\u001b[0m \u001b[0;34m'class'\u001b[0m\u001b[0;34m]\u001b[0m\u001b[0;34m\u001b[0m\u001b[0;34m\u001b[0m\u001b[0m\n\u001b[0m\u001b[1;32m      2\u001b[0m \u001b[0mdep_col\u001b[0m \u001b[0;34m=\u001b[0m \u001b[0;34m'class'\u001b[0m\u001b[0;34m\u001b[0m\u001b[0;34m\u001b[0m\u001b[0m\n\u001b[1;32m      3\u001b[0m \u001b[0;34m\u001b[0m\u001b[0m\n\u001b[1;32m      4\u001b[0m \u001b[0mX\u001b[0m \u001b[0;34m=\u001b[0m \u001b[0mdf1\u001b[0m\u001b[0;34m[\u001b[0m\u001b[0mind_col\u001b[0m\u001b[0;34m]\u001b[0m\u001b[0;34m\u001b[0m\u001b[0;34m\u001b[0m\u001b[0m\n\u001b[1;32m      5\u001b[0m \u001b[0my\u001b[0m \u001b[0;34m=\u001b[0m \u001b[0mdf1\u001b[0m\u001b[0;34m[\u001b[0m\u001b[0mdep_col\u001b[0m\u001b[0;34m]\u001b[0m\u001b[0;34m\u001b[0m\u001b[0;34m\u001b[0m\u001b[0m\n",
            "\u001b[0;31mNameError\u001b[0m: name 'df1' is not defined"
          ]
        }
      ],
      "source": [
        "ind_col = [col for col in df1.columns if col != 'class']\n",
        "dep_col = 'class'\n",
        "\n",
        "X = df1[ind_col]\n",
        "y = df1[dep_col]"
      ]
    },
    {
      "cell_type": "code",
      "execution_count": 11,
      "id": "0971a359",
      "metadata": {
        "colab": {
          "base_uri": "https://localhost:8080/",
          "height": 176
        },
        "id": "0971a359",
        "outputId": "b83f527d-ee52-4a2e-ed2a-5b7e1312cca4"
      },
      "outputs": [
        {
          "output_type": "error",
          "ename": "NameError",
          "evalue": "name 'X' is not defined",
          "traceback": [
            "\u001b[0;31m---------------------------------------------------------------------------\u001b[0m",
            "\u001b[0;31mNameError\u001b[0m                                 Traceback (most recent call last)",
            "\u001b[0;32m<ipython-input-11-11d2a663f4d8>\u001b[0m in \u001b[0;36m<cell line: 0>\u001b[0;34m()\u001b[0m\n\u001b[1;32m      3\u001b[0m \u001b[0;32mfrom\u001b[0m \u001b[0msklearn\u001b[0m\u001b[0;34m.\u001b[0m\u001b[0mmodel_selection\u001b[0m \u001b[0;32mimport\u001b[0m \u001b[0mtrain_test_split\u001b[0m\u001b[0;34m\u001b[0m\u001b[0;34m\u001b[0m\u001b[0m\n\u001b[1;32m      4\u001b[0m \u001b[0;34m\u001b[0m\u001b[0m\n\u001b[0;32m----> 5\u001b[0;31m \u001b[0mX_train\u001b[0m\u001b[0;34m,\u001b[0m \u001b[0mX_test\u001b[0m\u001b[0;34m,\u001b[0m \u001b[0my_train\u001b[0m\u001b[0;34m,\u001b[0m \u001b[0my_test\u001b[0m \u001b[0;34m=\u001b[0m \u001b[0mtrain_test_split\u001b[0m\u001b[0;34m(\u001b[0m\u001b[0mX\u001b[0m\u001b[0;34m,\u001b[0m \u001b[0my\u001b[0m\u001b[0;34m,\u001b[0m \u001b[0mtest_size\u001b[0m \u001b[0;34m=\u001b[0m \u001b[0;36m0.30\u001b[0m\u001b[0;34m,\u001b[0m \u001b[0mrandom_state\u001b[0m \u001b[0;34m=\u001b[0m \u001b[0;36m0\u001b[0m\u001b[0;34m)\u001b[0m\u001b[0;34m\u001b[0m\u001b[0;34m\u001b[0m\u001b[0m\n\u001b[0m",
            "\u001b[0;31mNameError\u001b[0m: name 'X' is not defined"
          ]
        }
      ],
      "source": [
        "# splitting data intp training and test set\n",
        "\n",
        "from sklearn.model_selection import train_test_split\n",
        "\n",
        "X_train, X_test, y_train, y_test = train_test_split(X, y, test_size = 0.30, random_state = 0)"
      ]
    },
    {
      "cell_type": "markdown",
      "id": "bc3a2314",
      "metadata": {
        "id": "bc3a2314"
      },
      "source": [
        "### Balancing Data"
      ]
    },
    {
      "cell_type": "code",
      "execution_count": 12,
      "id": "61df7c6f",
      "metadata": {
        "colab": {
          "base_uri": "https://localhost:8080/",
          "height": 141
        },
        "id": "61df7c6f",
        "outputId": "d08a7f59-959a-49f5-ffd5-dc7373ef95d2"
      },
      "outputs": [
        {
          "output_type": "error",
          "ename": "NameError",
          "evalue": "name 'y_train' is not defined",
          "traceback": [
            "\u001b[0;31m---------------------------------------------------------------------------\u001b[0m",
            "\u001b[0;31mNameError\u001b[0m                                 Traceback (most recent call last)",
            "\u001b[0;32m<ipython-input-12-01a9b21a3d29>\u001b[0m in \u001b[0;36m<cell line: 0>\u001b[0;34m()\u001b[0m\n\u001b[0;32m----> 1\u001b[0;31m \u001b[0mlen\u001b[0m\u001b[0;34m(\u001b[0m\u001b[0my_train\u001b[0m\u001b[0;34m[\u001b[0m\u001b[0my_train\u001b[0m\u001b[0;34m==\u001b[0m\u001b[0;36m1\u001b[0m\u001b[0;34m]\u001b[0m\u001b[0;34m)\u001b[0m\u001b[0;34m,\u001b[0m \u001b[0mlen\u001b[0m\u001b[0;34m(\u001b[0m\u001b[0my_train\u001b[0m\u001b[0;34m[\u001b[0m\u001b[0my_train\u001b[0m\u001b[0;34m==\u001b[0m\u001b[0;36m0\u001b[0m\u001b[0;34m]\u001b[0m\u001b[0;34m)\u001b[0m\u001b[0;34m,\u001b[0m \u001b[0my_train\u001b[0m\u001b[0;34m.\u001b[0m\u001b[0mshape\u001b[0m\u001b[0;34m\u001b[0m\u001b[0;34m\u001b[0m\u001b[0m\n\u001b[0m",
            "\u001b[0;31mNameError\u001b[0m: name 'y_train' is not defined"
          ]
        }
      ],
      "source": [
        "len(y_train[y_train==1]), len(y_train[y_train==0]), y_train.shape"
      ]
    },
    {
      "cell_type": "markdown",
      "id": "27c307be",
      "metadata": {
        "id": "27c307be"
      },
      "source": [
        "### Under Sampling"
      ]
    },
    {
      "cell_type": "code",
      "execution_count": 13,
      "id": "ab766bff",
      "metadata": {
        "id": "ab766bff"
      },
      "outputs": [],
      "source": [
        "from imblearn import under_sampling, over_sampling\n",
        "from imblearn.over_sampling import SMOTE"
      ]
    },
    {
      "cell_type": "code",
      "execution_count": 14,
      "id": "8710b4b9",
      "metadata": {
        "colab": {
          "base_uri": "https://localhost:8080/",
          "height": 211
        },
        "id": "8710b4b9",
        "outputId": "1222d852-6a68-4de0-f89c-ae1de65f6b23"
      },
      "outputs": [
        {
          "output_type": "error",
          "ename": "NameError",
          "evalue": "name 'X_train' is not defined",
          "traceback": [
            "\u001b[0;31m---------------------------------------------------------------------------\u001b[0m",
            "\u001b[0;31mNameError\u001b[0m                                 Traceback (most recent call last)",
            "\u001b[0;32m<ipython-input-14-74b3f8c497aa>\u001b[0m in \u001b[0;36m<cell line: 0>\u001b[0;34m()\u001b[0m\n\u001b[1;32m      2\u001b[0m \u001b[0mrus\u001b[0m \u001b[0;34m=\u001b[0m \u001b[0mRandomUnderSampler\u001b[0m\u001b[0;34m(\u001b[0m\u001b[0;34m)\u001b[0m\u001b[0;34m\u001b[0m\u001b[0;34m\u001b[0m\u001b[0m\n\u001b[1;32m      3\u001b[0m \u001b[0;34m\u001b[0m\u001b[0m\n\u001b[0;32m----> 4\u001b[0;31m \u001b[0mX_train_down\u001b[0m\u001b[0;34m,\u001b[0m\u001b[0my_train_down\u001b[0m \u001b[0;34m=\u001b[0m \u001b[0mrus\u001b[0m\u001b[0;34m.\u001b[0m\u001b[0mfit_resample\u001b[0m\u001b[0;34m(\u001b[0m\u001b[0mX_train\u001b[0m\u001b[0;34m,\u001b[0m \u001b[0my_train\u001b[0m\u001b[0;34m)\u001b[0m\u001b[0;34m\u001b[0m\u001b[0;34m\u001b[0m\u001b[0m\n\u001b[0m\u001b[1;32m      5\u001b[0m \u001b[0;34m\u001b[0m\u001b[0m\n\u001b[1;32m      6\u001b[0m \u001b[0mprint\u001b[0m\u001b[0;34m(\u001b[0m\u001b[0mlen\u001b[0m\u001b[0;34m(\u001b[0m\u001b[0my_train_down\u001b[0m\u001b[0;34m[\u001b[0m\u001b[0my_train_down\u001b[0m\u001b[0;34m==\u001b[0m\u001b[0;36m0\u001b[0m\u001b[0;34m]\u001b[0m\u001b[0;34m)\u001b[0m\u001b[0;34m,\u001b[0m \u001b[0mlen\u001b[0m\u001b[0;34m(\u001b[0m\u001b[0my_train_down\u001b[0m\u001b[0;34m[\u001b[0m\u001b[0my_train_down\u001b[0m\u001b[0;34m==\u001b[0m\u001b[0;36m1\u001b[0m\u001b[0;34m]\u001b[0m\u001b[0;34m)\u001b[0m\u001b[0;34m)\u001b[0m\u001b[0;34m\u001b[0m\u001b[0;34m\u001b[0m\u001b[0m\n",
            "\u001b[0;31mNameError\u001b[0m: name 'X_train' is not defined"
          ]
        }
      ],
      "source": [
        "from imblearn.under_sampling import RandomUnderSampler\n",
        "rus = RandomUnderSampler()\n",
        "\n",
        "X_train_down,y_train_down = rus.fit_resample(X_train, y_train)\n",
        "\n",
        "print(len(y_train_down[y_train_down==0]), len(y_train_down[y_train_down==1]))\n",
        "print(len(X_train_down))"
      ]
    },
    {
      "cell_type": "markdown",
      "id": "18c92e6b",
      "metadata": {
        "id": "18c92e6b"
      },
      "source": [
        "### Over Sampling"
      ]
    },
    {
      "cell_type": "code",
      "execution_count": null,
      "id": "b87a8d13",
      "metadata": {
        "id": "b87a8d13"
      },
      "outputs": [],
      "source": [
        "# RandomOverSampler to handle imbalanced data\n",
        "from imblearn.over_sampling import RandomOverSampler\n",
        "os =  RandomOverSampler(sampling_strategy=1)\n",
        "\n",
        "X_train, y_train = os.fit_resample(X_train, y_train)\n",
        "\n",
        "print(len(y_train[y_train==0]), len(y_train[y_train==1]))\n",
        "print(len(X_train))"
      ]
    },
    {
      "cell_type": "markdown",
      "id": "af4afd74",
      "metadata": {
        "id": "af4afd74"
      },
      "source": [
        "## Logistic Regression"
      ]
    },
    {
      "cell_type": "code",
      "execution_count": null,
      "id": "2afdf925",
      "metadata": {
        "id": "2afdf925"
      },
      "outputs": [],
      "source": [
        "def lr_grid_search(X, y):\n",
        "    model = LogisticRegression()\n",
        "\n",
        "    # Create a dictionary of all values we want to test\n",
        "    solvers = ['newton-cg', 'lbfgs', 'liblinear']\n",
        "    penalty = ['l2']\n",
        "    c_values = [100, 10, 1.0, 0.1, 0.01]\n",
        "\n",
        "    # define grid search\n",
        "    param_grid = dict(solver=solvers, penalty=penalty, C=c_values)\n",
        "    cv = RepeatedStratifiedKFold(n_splits=10, n_repeats=3, random_state=1)\n",
        "\n",
        "    grid_search = GridSearchCV(estimator=model, param_grid=param_grid, n_jobs=-1, cv=cv, scoring='accuracy')\n",
        "    grid_result = grid_search.fit(X, y)\n",
        "\n",
        "    return grid_result.best_params_"
      ]
    },
    {
      "cell_type": "code",
      "execution_count": 15,
      "id": "30be5c42",
      "metadata": {
        "colab": {
          "base_uri": "https://localhost:8080/",
          "height": 176
        },
        "id": "30be5c42",
        "outputId": "1459a0ac-198c-4052-b9f0-73782b45c8e3"
      },
      "outputs": [
        {
          "output_type": "error",
          "ename": "NameError",
          "evalue": "name 'lr_grid_search' is not defined",
          "traceback": [
            "\u001b[0;31m---------------------------------------------------------------------------\u001b[0m",
            "\u001b[0;31mNameError\u001b[0m                                 Traceback (most recent call last)",
            "\u001b[0;32m<ipython-input-15-826f20abdaf0>\u001b[0m in \u001b[0;36m<cell line: 0>\u001b[0;34m()\u001b[0m\n\u001b[1;32m      1\u001b[0m \u001b[0;32mfrom\u001b[0m \u001b[0msklearn\u001b[0m\u001b[0;34m.\u001b[0m\u001b[0mmodel_selection\u001b[0m \u001b[0;32mimport\u001b[0m \u001b[0mRepeatedStratifiedKFold\u001b[0m\u001b[0;34m\u001b[0m\u001b[0;34m\u001b[0m\u001b[0m\n\u001b[1;32m      2\u001b[0m \u001b[0;32mfrom\u001b[0m \u001b[0msklearn\u001b[0m\u001b[0;34m.\u001b[0m\u001b[0mmodel_selection\u001b[0m \u001b[0;32mimport\u001b[0m \u001b[0mGridSearchCV\u001b[0m\u001b[0;34m\u001b[0m\u001b[0;34m\u001b[0m\u001b[0m\n\u001b[0;32m----> 3\u001b[0;31m \u001b[0mlr_grid_search\u001b[0m\u001b[0;34m(\u001b[0m\u001b[0mX_train\u001b[0m\u001b[0;34m,\u001b[0m \u001b[0my_train\u001b[0m\u001b[0;34m)\u001b[0m\u001b[0;34m\u001b[0m\u001b[0;34m\u001b[0m\u001b[0m\n\u001b[0m",
            "\u001b[0;31mNameError\u001b[0m: name 'lr_grid_search' is not defined"
          ]
        }
      ],
      "source": [
        "from sklearn.model_selection import RepeatedStratifiedKFold\n",
        "from sklearn.model_selection import GridSearchCV\n",
        "lr_grid_search(X_train, y_train)"
      ]
    },
    {
      "cell_type": "markdown",
      "id": "e56b0de8",
      "metadata": {
        "id": "e56b0de8"
      },
      "source": [
        "### Over sample Logistic"
      ]
    },
    {
      "cell_type": "code",
      "execution_count": 16,
      "id": "03a23801",
      "metadata": {
        "colab": {
          "base_uri": "https://localhost:8080/",
          "height": 211
        },
        "id": "03a23801",
        "outputId": "19dc4433-84ad-43e6-a29c-1af9ee907e41"
      },
      "outputs": [
        {
          "output_type": "error",
          "ename": "NameError",
          "evalue": "name 'X_train' is not defined",
          "traceback": [
            "\u001b[0;31m---------------------------------------------------------------------------\u001b[0m",
            "\u001b[0;31mNameError\u001b[0m                                 Traceback (most recent call last)",
            "\u001b[0;32m<ipython-input-16-51cde45afad0>\u001b[0m in \u001b[0;36m<cell line: 0>\u001b[0;34m()\u001b[0m\n\u001b[1;32m      2\u001b[0m \u001b[0;32mfrom\u001b[0m \u001b[0msklearn\u001b[0m\u001b[0;34m.\u001b[0m\u001b[0mmetrics\u001b[0m \u001b[0;32mimport\u001b[0m \u001b[0mclassification_report\u001b[0m\u001b[0;34m\u001b[0m\u001b[0;34m\u001b[0m\u001b[0m\n\u001b[1;32m      3\u001b[0m \u001b[0mlr\u001b[0m \u001b[0;34m=\u001b[0m \u001b[0mLogisticRegression\u001b[0m\u001b[0;34m(\u001b[0m\u001b[0mC\u001b[0m\u001b[0;34m=\u001b[0m\u001b[0;36m100\u001b[0m\u001b[0;34m,\u001b[0m \u001b[0mpenalty\u001b[0m\u001b[0;34m=\u001b[0m\u001b[0;34m'l2'\u001b[0m\u001b[0;34m,\u001b[0m \u001b[0msolver\u001b[0m\u001b[0;34m=\u001b[0m\u001b[0;34m'newton-cg'\u001b[0m\u001b[0;34m)\u001b[0m\u001b[0;34m\u001b[0m\u001b[0;34m\u001b[0m\u001b[0m\n\u001b[0;32m----> 4\u001b[0;31m \u001b[0mlr\u001b[0m\u001b[0;34m.\u001b[0m\u001b[0mfit\u001b[0m\u001b[0;34m(\u001b[0m\u001b[0mX_train\u001b[0m\u001b[0;34m,\u001b[0m\u001b[0my_train\u001b[0m\u001b[0;34m)\u001b[0m\u001b[0;34m\u001b[0m\u001b[0;34m\u001b[0m\u001b[0m\n\u001b[0m\u001b[1;32m      5\u001b[0m \u001b[0;34m\u001b[0m\u001b[0m\n\u001b[1;32m      6\u001b[0m \u001b[0my_pred_lr\u001b[0m \u001b[0;34m=\u001b[0m \u001b[0mlr\u001b[0m\u001b[0;34m.\u001b[0m\u001b[0mpredict\u001b[0m\u001b[0;34m(\u001b[0m\u001b[0mX_test\u001b[0m\u001b[0;34m)\u001b[0m\u001b[0;34m\u001b[0m\u001b[0;34m\u001b[0m\u001b[0m\n",
            "\u001b[0;31mNameError\u001b[0m: name 'X_train' is not defined"
          ]
        }
      ],
      "source": [
        "from sklearn import metrics\n",
        "from sklearn.metrics import classification_report\n",
        "lr = LogisticRegression(C=100, penalty='l2', solver='newton-cg')\n",
        "lr.fit(X_train,y_train)\n",
        "\n",
        "y_pred_lr = lr.predict(X_test)\n",
        "\n",
        "print(metrics.classification_report(y_test, y_pred_lr))\n",
        "\n",
        "lr_score = lr.score(X_train,y_train)\n",
        "print(lr_score)\n",
        "\n",
        "lr_score = lr.score(X_test,y_test)\n",
        "print(lr_score)"
      ]
    },
    {
      "cell_type": "code",
      "execution_count": 17,
      "id": "845e28e8",
      "metadata": {
        "colab": {
          "base_uri": "https://localhost:8080/",
          "height": 158
        },
        "id": "845e28e8",
        "outputId": "91e06c37-0dd5-4797-c3c6-f92ca33ddd8a"
      },
      "outputs": [
        {
          "output_type": "error",
          "ename": "NameError",
          "evalue": "name 'X_test' is not defined",
          "traceback": [
            "\u001b[0;31m---------------------------------------------------------------------------\u001b[0m",
            "\u001b[0;31mNameError\u001b[0m                                 Traceback (most recent call last)",
            "\u001b[0;32m<ipython-input-17-edd97a931b51>\u001b[0m in \u001b[0;36m<cell line: 0>\u001b[0;34m()\u001b[0m\n\u001b[0;32m----> 1\u001b[0;31m \u001b[0mlr_tacc\u001b[0m \u001b[0;34m=\u001b[0m \u001b[0mlr\u001b[0m\u001b[0;34m.\u001b[0m\u001b[0mscore\u001b[0m\u001b[0;34m(\u001b[0m\u001b[0mX_test\u001b[0m\u001b[0;34m,\u001b[0m\u001b[0my_test\u001b[0m\u001b[0;34m)\u001b[0m\u001b[0;34m\u001b[0m\u001b[0;34m\u001b[0m\u001b[0m\n\u001b[0m\u001b[1;32m      2\u001b[0m \u001b[0mlr_train_acc\u001b[0m \u001b[0;34m=\u001b[0m \u001b[0mlr\u001b[0m\u001b[0;34m.\u001b[0m\u001b[0mscore\u001b[0m\u001b[0;34m(\u001b[0m\u001b[0mX_train\u001b[0m\u001b[0;34m,\u001b[0m \u001b[0my_train\u001b[0m\u001b[0;34m)\u001b[0m\u001b[0;34m\u001b[0m\u001b[0;34m\u001b[0m\u001b[0m\n",
            "\u001b[0;31mNameError\u001b[0m: name 'X_test' is not defined"
          ]
        }
      ],
      "source": [
        "lr_tacc = lr.score(X_test,y_test)\n",
        "lr_train_acc = lr.score(X_train, y_train)"
      ]
    },
    {
      "cell_type": "markdown",
      "id": "88361d73",
      "metadata": {
        "id": "88361d73"
      },
      "source": [
        "### Confusion matrix of Logistic Regression Model"
      ]
    },
    {
      "cell_type": "code",
      "execution_count": 18,
      "id": "00aa779d",
      "metadata": {
        "colab": {
          "base_uri": "https://localhost:8080/",
          "height": 211
        },
        "id": "00aa779d",
        "outputId": "a20c9cc8-3f88-4455-f98a-d646ee44bf98"
      },
      "outputs": [
        {
          "output_type": "error",
          "ename": "NameError",
          "evalue": "name 'y_test' is not defined",
          "traceback": [
            "\u001b[0;31m---------------------------------------------------------------------------\u001b[0m",
            "\u001b[0;31mNameError\u001b[0m                                 Traceback (most recent call last)",
            "\u001b[0;32m<ipython-input-18-8933de1d6003>\u001b[0m in \u001b[0;36m<cell line: 0>\u001b[0;34m()\u001b[0m\n\u001b[0;32m----> 1\u001b[0;31m \u001b[0mcm\u001b[0m \u001b[0;34m=\u001b[0m \u001b[0mmetrics\u001b[0m\u001b[0;34m.\u001b[0m\u001b[0mconfusion_matrix\u001b[0m\u001b[0;34m(\u001b[0m\u001b[0my_test\u001b[0m\u001b[0;34m,\u001b[0m \u001b[0my_pred_lr\u001b[0m\u001b[0;34m,\u001b[0m \u001b[0mlabels\u001b[0m\u001b[0;34m=\u001b[0m\u001b[0;34m[\u001b[0m\u001b[0;36m1\u001b[0m\u001b[0;34m,\u001b[0m\u001b[0;36m0\u001b[0m\u001b[0;34m]\u001b[0m\u001b[0;34m)\u001b[0m\u001b[0;34m\u001b[0m\u001b[0;34m\u001b[0m\u001b[0m\n\u001b[0m\u001b[1;32m      2\u001b[0m \u001b[0;34m\u001b[0m\u001b[0m\n\u001b[1;32m      3\u001b[0m df_cm = pd.DataFrame(cm, index = [i for i in [\"1\",\"0\"]],\n\u001b[1;32m      4\u001b[0m                          columns = [i for i in [\"Predict 1\", \"Predict 0\"]])\n\u001b[1;32m      5\u001b[0m \u001b[0mplt\u001b[0m\u001b[0;34m.\u001b[0m\u001b[0mfigure\u001b[0m\u001b[0;34m(\u001b[0m\u001b[0mfigsize\u001b[0m \u001b[0;34m=\u001b[0m \u001b[0;34m(\u001b[0m\u001b[0;36m7\u001b[0m\u001b[0;34m,\u001b[0m\u001b[0;36m5\u001b[0m\u001b[0;34m)\u001b[0m\u001b[0;34m)\u001b[0m\u001b[0;34m\u001b[0m\u001b[0;34m\u001b[0m\u001b[0m\n",
            "\u001b[0;31mNameError\u001b[0m: name 'y_test' is not defined"
          ]
        }
      ],
      "source": [
        "cm = metrics.confusion_matrix(y_test, y_pred_lr, labels=[1,0])\n",
        "\n",
        "df_cm = pd.DataFrame(cm, index = [i for i in [\"1\",\"0\"]],\n",
        "                         columns = [i for i in [\"Predict 1\", \"Predict 0\"]])\n",
        "plt.figure(figsize = (7,5))\n",
        "sns.heatmap(df_cm, annot=True, fmt='g')"
      ]
    },
    {
      "cell_type": "markdown",
      "id": "8b4bee78",
      "metadata": {
        "id": "8b4bee78"
      },
      "source": [
        "### Under Sample Logistic"
      ]
    },
    {
      "cell_type": "code",
      "execution_count": 19,
      "id": "34ca9fdb",
      "metadata": {
        "colab": {
          "base_uri": "https://localhost:8080/",
          "height": 211
        },
        "id": "34ca9fdb",
        "outputId": "2fd9afbf-d0ab-43b7-908c-d88ad3fb9f3f"
      },
      "outputs": [
        {
          "output_type": "error",
          "ename": "NameError",
          "evalue": "name 'X_train_down' is not defined",
          "traceback": [
            "\u001b[0;31m---------------------------------------------------------------------------\u001b[0m",
            "\u001b[0;31mNameError\u001b[0m                                 Traceback (most recent call last)",
            "\u001b[0;32m<ipython-input-19-fe9449507191>\u001b[0m in \u001b[0;36m<cell line: 0>\u001b[0;34m()\u001b[0m\n\u001b[1;32m      1\u001b[0m \u001b[0mlr\u001b[0m \u001b[0;34m=\u001b[0m \u001b[0mLogisticRegression\u001b[0m\u001b[0;34m(\u001b[0m\u001b[0mC\u001b[0m\u001b[0;34m=\u001b[0m\u001b[0;36m100\u001b[0m\u001b[0;34m,\u001b[0m \u001b[0mpenalty\u001b[0m\u001b[0;34m=\u001b[0m\u001b[0;34m'l2'\u001b[0m\u001b[0;34m,\u001b[0m \u001b[0msolver\u001b[0m\u001b[0;34m=\u001b[0m\u001b[0;34m'newton-cg'\u001b[0m\u001b[0;34m)\u001b[0m\u001b[0;34m\u001b[0m\u001b[0;34m\u001b[0m\u001b[0m\n\u001b[0;32m----> 2\u001b[0;31m \u001b[0mlr\u001b[0m\u001b[0;34m.\u001b[0m\u001b[0mfit\u001b[0m\u001b[0;34m(\u001b[0m\u001b[0mX_train_down\u001b[0m\u001b[0;34m,\u001b[0m\u001b[0my_train_down\u001b[0m\u001b[0;34m)\u001b[0m\u001b[0;34m\u001b[0m\u001b[0;34m\u001b[0m\u001b[0m\n\u001b[0m\u001b[1;32m      3\u001b[0m \u001b[0;34m\u001b[0m\u001b[0m\n\u001b[1;32m      4\u001b[0m \u001b[0my_pred_lr\u001b[0m \u001b[0;34m=\u001b[0m \u001b[0mlr\u001b[0m\u001b[0;34m.\u001b[0m\u001b[0mpredict\u001b[0m\u001b[0;34m(\u001b[0m\u001b[0mX_test\u001b[0m\u001b[0;34m)\u001b[0m\u001b[0;34m\u001b[0m\u001b[0;34m\u001b[0m\u001b[0m\n\u001b[1;32m      5\u001b[0m \u001b[0;34m\u001b[0m\u001b[0m\n",
            "\u001b[0;31mNameError\u001b[0m: name 'X_train_down' is not defined"
          ]
        }
      ],
      "source": [
        "lr = LogisticRegression(C=100, penalty='l2', solver='newton-cg')\n",
        "lr.fit(X_train_down,y_train_down)\n",
        "\n",
        "y_pred_lr = lr.predict(X_test)\n",
        "\n",
        "print(metrics.classification_report(y_test, y_pred_lr))\n",
        "\n",
        "lr_score = lr.score(X_train_down,y_train_down)\n",
        "print(lr_score)\n",
        "\n",
        "lr_score = lr.score(X_test,y_test)\n",
        "print(lr_score)"
      ]
    },
    {
      "cell_type": "code",
      "execution_count": 20,
      "id": "0487bf0c",
      "metadata": {
        "colab": {
          "base_uri": "https://localhost:8080/",
          "height": 211
        },
        "id": "0487bf0c",
        "outputId": "32341d46-5c32-4166-de47-48f69f7be998"
      },
      "outputs": [
        {
          "output_type": "error",
          "ename": "NameError",
          "evalue": "name 'y_test' is not defined",
          "traceback": [
            "\u001b[0;31m---------------------------------------------------------------------------\u001b[0m",
            "\u001b[0;31mNameError\u001b[0m                                 Traceback (most recent call last)",
            "\u001b[0;32m<ipython-input-20-8933de1d6003>\u001b[0m in \u001b[0;36m<cell line: 0>\u001b[0;34m()\u001b[0m\n\u001b[0;32m----> 1\u001b[0;31m \u001b[0mcm\u001b[0m \u001b[0;34m=\u001b[0m \u001b[0mmetrics\u001b[0m\u001b[0;34m.\u001b[0m\u001b[0mconfusion_matrix\u001b[0m\u001b[0;34m(\u001b[0m\u001b[0my_test\u001b[0m\u001b[0;34m,\u001b[0m \u001b[0my_pred_lr\u001b[0m\u001b[0;34m,\u001b[0m \u001b[0mlabels\u001b[0m\u001b[0;34m=\u001b[0m\u001b[0;34m[\u001b[0m\u001b[0;36m1\u001b[0m\u001b[0;34m,\u001b[0m\u001b[0;36m0\u001b[0m\u001b[0;34m]\u001b[0m\u001b[0;34m)\u001b[0m\u001b[0;34m\u001b[0m\u001b[0;34m\u001b[0m\u001b[0m\n\u001b[0m\u001b[1;32m      2\u001b[0m \u001b[0;34m\u001b[0m\u001b[0m\n\u001b[1;32m      3\u001b[0m df_cm = pd.DataFrame(cm, index = [i for i in [\"1\",\"0\"]],\n\u001b[1;32m      4\u001b[0m                          columns = [i for i in [\"Predict 1\", \"Predict 0\"]])\n\u001b[1;32m      5\u001b[0m \u001b[0mplt\u001b[0m\u001b[0;34m.\u001b[0m\u001b[0mfigure\u001b[0m\u001b[0;34m(\u001b[0m\u001b[0mfigsize\u001b[0m \u001b[0;34m=\u001b[0m \u001b[0;34m(\u001b[0m\u001b[0;36m7\u001b[0m\u001b[0;34m,\u001b[0m\u001b[0;36m5\u001b[0m\u001b[0;34m)\u001b[0m\u001b[0;34m)\u001b[0m\u001b[0;34m\u001b[0m\u001b[0;34m\u001b[0m\u001b[0m\n",
            "\u001b[0;31mNameError\u001b[0m: name 'y_test' is not defined"
          ]
        }
      ],
      "source": [
        "cm = metrics.confusion_matrix(y_test, y_pred_lr, labels=[1,0])\n",
        "\n",
        "df_cm = pd.DataFrame(cm, index = [i for i in [\"1\",\"0\"]],\n",
        "                         columns = [i for i in [\"Predict 1\", \"Predict 0\"]])\n",
        "plt.figure(figsize = (7,5))\n",
        "sns.heatmap(df_cm, annot=True, fmt='g')"
      ]
    },
    {
      "cell_type": "markdown",
      "id": "0bf01c74",
      "metadata": {
        "id": "0bf01c74"
      },
      "source": [
        "## Decision Tree Classifier"
      ]
    },
    {
      "cell_type": "code",
      "execution_count": 21,
      "id": "b9dcbb75",
      "metadata": {
        "id": "b9dcbb75"
      },
      "outputs": [],
      "source": [
        "def dtree_grid_search(X, y):\n",
        "    #create a dictionary of all values we want to test\n",
        "    param_grid = { 'criterion':['gini','entropy'],'max_depth': np.arange(2, 15)}\n",
        "    cv = RepeatedStratifiedKFold(n_splits=10, n_repeats=3, random_state=1)\n",
        "\n",
        "    # decision tree model\n",
        "    dtree = DecisionTreeClassifier()\n",
        "\n",
        "    #use gridsearch to test all values\n",
        "    dtree_gscv = GridSearchCV(dtree, param_grid, cv=cv, n_jobs=-1, scoring='accuracy')\n",
        "    #fit model to data\n",
        "    dtree_gscv.fit(X, y)\n",
        "\n",
        "    return dtree_gscv.best_params_"
      ]
    },
    {
      "cell_type": "code",
      "execution_count": 22,
      "id": "df542b26",
      "metadata": {
        "colab": {
          "base_uri": "https://localhost:8080/",
          "height": 158
        },
        "id": "df542b26",
        "outputId": "94a12a9d-2c96-4315-ee54-2cbddb186975"
      },
      "outputs": [
        {
          "output_type": "error",
          "ename": "NameError",
          "evalue": "name 'X_train' is not defined",
          "traceback": [
            "\u001b[0;31m---------------------------------------------------------------------------\u001b[0m",
            "\u001b[0;31mNameError\u001b[0m                                 Traceback (most recent call last)",
            "\u001b[0;32m<ipython-input-22-926c331d33f1>\u001b[0m in \u001b[0;36m<cell line: 0>\u001b[0;34m()\u001b[0m\n\u001b[1;32m      1\u001b[0m \u001b[0;32mfrom\u001b[0m \u001b[0msklearn\u001b[0m\u001b[0;34m.\u001b[0m\u001b[0mtree\u001b[0m \u001b[0;32mimport\u001b[0m \u001b[0mDecisionTreeClassifier\u001b[0m\u001b[0;34m\u001b[0m\u001b[0;34m\u001b[0m\u001b[0m\n\u001b[0;32m----> 2\u001b[0;31m \u001b[0mdtree_grid_search\u001b[0m\u001b[0;34m(\u001b[0m\u001b[0mX_train\u001b[0m\u001b[0;34m,\u001b[0m \u001b[0my_train\u001b[0m\u001b[0;34m)\u001b[0m\u001b[0;34m\u001b[0m\u001b[0;34m\u001b[0m\u001b[0m\n\u001b[0m",
            "\u001b[0;31mNameError\u001b[0m: name 'X_train' is not defined"
          ]
        }
      ],
      "source": [
        "from sklearn.tree import DecisionTreeClassifier\n",
        "dtree_grid_search(X_train, y_train)"
      ]
    },
    {
      "cell_type": "markdown",
      "id": "ff279542",
      "metadata": {
        "id": "ff279542"
      },
      "source": [
        "### Over Sample Decision Tree"
      ]
    },
    {
      "cell_type": "code",
      "execution_count": 23,
      "id": "18387ab0",
      "metadata": {
        "colab": {
          "base_uri": "https://localhost:8080/",
          "height": 211
        },
        "id": "18387ab0",
        "outputId": "3ee38c9c-bc24-43d2-cb2f-27a54c180c0c"
      },
      "outputs": [
        {
          "output_type": "error",
          "ename": "NameError",
          "evalue": "name 'X_train' is not defined",
          "traceback": [
            "\u001b[0;31m---------------------------------------------------------------------------\u001b[0m",
            "\u001b[0;31mNameError\u001b[0m                                 Traceback (most recent call last)",
            "\u001b[0;32m<ipython-input-23-a1d2bc424858>\u001b[0m in \u001b[0;36m<cell line: 0>\u001b[0;34m()\u001b[0m\n\u001b[1;32m      1\u001b[0m \u001b[0mdTree\u001b[0m \u001b[0;34m=\u001b[0m \u001b[0mDecisionTreeClassifier\u001b[0m\u001b[0;34m(\u001b[0m\u001b[0mcriterion\u001b[0m \u001b[0;34m=\u001b[0m \u001b[0;34m'entropy'\u001b[0m\u001b[0;34m,\u001b[0m \u001b[0mmax_depth\u001b[0m \u001b[0;34m=\u001b[0m \u001b[0;36m7\u001b[0m\u001b[0;34m)\u001b[0m\u001b[0;34m\u001b[0m\u001b[0;34m\u001b[0m\u001b[0m\n\u001b[0;32m----> 2\u001b[0;31m \u001b[0mdTree\u001b[0m\u001b[0;34m.\u001b[0m\u001b[0mfit\u001b[0m\u001b[0;34m(\u001b[0m\u001b[0mX_train\u001b[0m\u001b[0;34m,\u001b[0m \u001b[0my_train\u001b[0m\u001b[0;34m)\u001b[0m\u001b[0;34m\u001b[0m\u001b[0;34m\u001b[0m\u001b[0m\n\u001b[0m\u001b[1;32m      3\u001b[0m \u001b[0;34m\u001b[0m\u001b[0m\n\u001b[1;32m      4\u001b[0m \u001b[0mprint\u001b[0m\u001b[0;34m(\u001b[0m\u001b[0mdTree\u001b[0m\u001b[0;34m.\u001b[0m\u001b[0mscore\u001b[0m\u001b[0;34m(\u001b[0m\u001b[0mX_train\u001b[0m\u001b[0;34m,\u001b[0m\u001b[0my_train\u001b[0m\u001b[0;34m)\u001b[0m\u001b[0;34m)\u001b[0m\u001b[0;34m\u001b[0m\u001b[0;34m\u001b[0m\u001b[0m\n\u001b[1;32m      5\u001b[0m \u001b[0mprint\u001b[0m\u001b[0;34m(\u001b[0m\u001b[0mdTree\u001b[0m\u001b[0;34m.\u001b[0m\u001b[0mscore\u001b[0m\u001b[0;34m(\u001b[0m\u001b[0mX_test\u001b[0m\u001b[0;34m,\u001b[0m\u001b[0my_test\u001b[0m\u001b[0;34m)\u001b[0m\u001b[0;34m)\u001b[0m\u001b[0;34m\u001b[0m\u001b[0;34m\u001b[0m\u001b[0m\n",
            "\u001b[0;31mNameError\u001b[0m: name 'X_train' is not defined"
          ]
        }
      ],
      "source": [
        "dTree = DecisionTreeClassifier(criterion = 'entropy', max_depth = 7)\n",
        "dTree.fit(X_train, y_train)\n",
        "\n",
        "print(dTree.score(X_train,y_train))\n",
        "print(dTree.score(X_test,y_test))\n",
        "\n",
        "y_pred_dtree = dTree.predict(X_test)\n",
        "\n",
        "print(metrics.classification_report(y_test, y_pred_dtree))"
      ]
    },
    {
      "cell_type": "code",
      "execution_count": 24,
      "id": "27d46453",
      "metadata": {
        "colab": {
          "base_uri": "https://localhost:8080/",
          "height": 158
        },
        "id": "27d46453",
        "outputId": "9aa3ef75-fef1-434e-f034-ac132415eeaa"
      },
      "outputs": [
        {
          "output_type": "error",
          "ename": "NameError",
          "evalue": "name 'X_test' is not defined",
          "traceback": [
            "\u001b[0;31m---------------------------------------------------------------------------\u001b[0m",
            "\u001b[0;31mNameError\u001b[0m                                 Traceback (most recent call last)",
            "\u001b[0;32m<ipython-input-24-58fdb07aedc0>\u001b[0m in \u001b[0;36m<cell line: 0>\u001b[0;34m()\u001b[0m\n\u001b[0;32m----> 1\u001b[0;31m \u001b[0mdt_tacc\u001b[0m \u001b[0;34m=\u001b[0m \u001b[0mdTree\u001b[0m\u001b[0;34m.\u001b[0m\u001b[0mscore\u001b[0m\u001b[0;34m(\u001b[0m\u001b[0mX_test\u001b[0m\u001b[0;34m,\u001b[0m\u001b[0my_test\u001b[0m\u001b[0;34m)\u001b[0m\u001b[0;34m\u001b[0m\u001b[0;34m\u001b[0m\u001b[0m\n\u001b[0m\u001b[1;32m      2\u001b[0m \u001b[0mdt_train_acc\u001b[0m \u001b[0;34m=\u001b[0m \u001b[0mdTree\u001b[0m\u001b[0;34m.\u001b[0m\u001b[0mscore\u001b[0m\u001b[0;34m(\u001b[0m\u001b[0mX_train\u001b[0m\u001b[0;34m,\u001b[0m \u001b[0my_train\u001b[0m\u001b[0;34m)\u001b[0m\u001b[0;34m\u001b[0m\u001b[0;34m\u001b[0m\u001b[0m\n",
            "\u001b[0;31mNameError\u001b[0m: name 'X_test' is not defined"
          ]
        }
      ],
      "source": [
        "dt_tacc = dTree.score(X_test,y_test)\n",
        "dt_train_acc = dTree.score(X_train, y_train)"
      ]
    },
    {
      "cell_type": "markdown",
      "id": "eb377419",
      "metadata": {
        "id": "eb377419"
      },
      "source": [
        "### Confusion Matrix of Decision Tree Classifier"
      ]
    },
    {
      "cell_type": "code",
      "execution_count": null,
      "id": "8aca6869",
      "metadata": {
        "id": "8aca6869",
        "outputId": "5a5c5cb4-c4f1-4887-f5e1-f399d53f61d6"
      },
      "outputs": [
        {
          "data": {
            "text/plain": [
              "<AxesSubplot:>"
            ]
          },
          "execution_count": 257,
          "metadata": {},
          "output_type": "execute_result"
        }
      ],
      "source": [
        "cm = metrics.confusion_matrix(y_test, y_pred_dtree, labels=[1,0])\n",
        "\n",
        "df_cm = pd.DataFrame(cm, index = [i for i in [\"1\",\"0\"]],\n",
        "                         columns = [i for i in [\"Predict 1\", \"Predict 0\"]])\n",
        "plt.figure(figsize = (7,5))\n",
        "sns.heatmap(df_cm, annot=True, fmt='g')"
      ]
    },
    {
      "cell_type": "markdown",
      "id": "5e523e4f",
      "metadata": {
        "id": "5e523e4f"
      },
      "source": [
        "### Under Sample Decision Tree"
      ]
    },
    {
      "cell_type": "code",
      "execution_count": null,
      "id": "4dedf9cb",
      "metadata": {
        "id": "4dedf9cb",
        "outputId": "f8351b18-dc52-4516-ab75-d04cac5f46fe"
      },
      "outputs": [
        {
          "data": {
            "text/plain": [
              "{'criterion': 'entropy', 'max_depth': 14}"
            ]
          },
          "execution_count": 283,
          "metadata": {},
          "output_type": "execute_result"
        }
      ],
      "source": [
        "dtree_grid_search(X_train_down, y_train_down)"
      ]
    },
    {
      "cell_type": "code",
      "execution_count": null,
      "id": "4c0e83ac",
      "metadata": {
        "id": "4c0e83ac",
        "outputId": "a74ef3b5-bb3b-4b82-c107-5cb191bc883b"
      },
      "outputs": [
        {
          "name": "stdout",
          "output_type": "stream",
          "text": [
            "1.0\n",
            "0.9833333333333333\n",
            "              precision    recall  f1-score   support\n",
            "\n",
            "         0.0       1.00      0.97      0.99        72\n",
            "         1.0       0.96      1.00      0.98        48\n",
            "\n",
            "    accuracy                           0.98       120\n",
            "   macro avg       0.98      0.99      0.98       120\n",
            "weighted avg       0.98      0.98      0.98       120\n",
            "\n"
          ]
        }
      ],
      "source": [
        "dTree = DecisionTreeClassifier(criterion = 'entropy', max_depth =14)\n",
        "dTree.fit(X_train_down, y_train_down)\n",
        "\n",
        "print(dTree.score(X_train_down,y_train_down))\n",
        "print(dTree.score(X_test,y_test))\n",
        "\n",
        "y_pred_dtree = dTree.predict(X_test)\n",
        "\n",
        "print(metrics.classification_report(y_test, y_pred_dtree))"
      ]
    },
    {
      "cell_type": "code",
      "execution_count": null,
      "id": "6bf15774",
      "metadata": {
        "id": "6bf15774",
        "outputId": "90a472f7-7aae-46ab-8cb2-8a489ddc78a2"
      },
      "outputs": [
        {
          "data": {
            "text/plain": [
              "<AxesSubplot:>"
            ]
          },
          "execution_count": 285,
          "metadata": {},
          "output_type": "execute_result"
        }
      ],
      "source": [
        "cm = metrics.confusion_matrix(y_test, y_pred_dtree, labels=[1,0])\n",
        "\n",
        "df_cm = pd.DataFrame(cm, index = [i for i in [\"1\",\"0\"]],\n",
        "                         columns = [i for i in [\"Predict 1\", \"Predict 0\"]])\n",
        "plt.figure(figsize = (7,5))\n",
        "sns.heatmap(df_cm, annot=True, fmt='g')"
      ]
    },
    {
      "cell_type": "markdown",
      "id": "aee6aea6",
      "metadata": {
        "id": "aee6aea6"
      },
      "source": [
        "## Ensemble learning - AdaBoost"
      ]
    },
    {
      "cell_type": "code",
      "execution_count": null,
      "id": "6f600639",
      "metadata": {
        "id": "6f600639"
      },
      "outputs": [],
      "source": [
        "def ada_grid_search(X, y):\n",
        "    #create a dictionary of all values we want to test\n",
        "    param_grid = {'n_estimators':[10, 50, 100, 500], 'learning_rate': [0.0001, 0.001, 0.01, 0.1, 1.0]}\n",
        "    cv = RepeatedStratifiedKFold(n_splits=10, n_repeats=3, random_state=1)\n",
        "\n",
        "    # AdaBoost model\n",
        "    ada = AdaBoostClassifier()\n",
        "\n",
        "    # Use gridsearch to test all values\n",
        "    ada_gscv = GridSearchCV(ada, param_grid, n_jobs=-1, cv=cv, scoring='accuracy')\n",
        "    #fit model to data\n",
        "    grid_result = ada_gscv.fit(X, y)\n",
        "\n",
        "    return ada_gscv.best_params_"
      ]
    },
    {
      "cell_type": "code",
      "execution_count": null,
      "id": "83168f61",
      "metadata": {
        "id": "83168f61",
        "outputId": "408fd7e3-4f1d-423d-dbf3-ea1831d552a0"
      },
      "outputs": [
        {
          "data": {
            "text/plain": [
              "{'learning_rate': 0.1, 'n_estimators': 50}"
            ]
          },
          "execution_count": 287,
          "metadata": {},
          "output_type": "execute_result"
        }
      ],
      "source": [
        "from sklearn.ensemble import AdaBoostClassifier\n",
        "ada_grid_search(X_train, y_train)"
      ]
    },
    {
      "cell_type": "markdown",
      "id": "6e6f189e",
      "metadata": {
        "id": "6e6f189e"
      },
      "source": [
        "### Over Sample AdaBoost"
      ]
    },
    {
      "cell_type": "code",
      "execution_count": null,
      "id": "bd3ed7a1",
      "metadata": {
        "id": "bd3ed7a1",
        "outputId": "d4333d77-4b3d-40ee-b7fb-6c1636500092"
      },
      "outputs": [
        {
          "name": "stdout",
          "output_type": "stream",
          "text": [
            "0.9972067039106145\n",
            "1.0\n",
            "              precision    recall  f1-score   support\n",
            "\n",
            "         0.0       1.00      1.00      1.00        72\n",
            "         1.0       1.00      1.00      1.00        48\n",
            "\n",
            "    accuracy                           1.00       120\n",
            "   macro avg       1.00      1.00      1.00       120\n",
            "weighted avg       1.00      1.00      1.00       120\n",
            "\n"
          ]
        }
      ],
      "source": [
        "abcl = AdaBoostClassifier(n_estimators=50, learning_rate = 0.1)\n",
        "abcl = abcl.fit(X_train, y_train)\n",
        "\n",
        "y_pred_abcl = abcl.predict(X_test)\n",
        "\n",
        "print(abcl.score(X_train, y_train))\n",
        "print(abcl.score(X_test,y_test))\n",
        "\n",
        "print(metrics.classification_report(y_test, y_pred_abcl))"
      ]
    },
    {
      "cell_type": "code",
      "execution_count": null,
      "id": "5988515d",
      "metadata": {
        "id": "5988515d"
      },
      "outputs": [],
      "source": [
        "ada_train_acc = abcl.score(X_train, y_train)\n",
        "ada_tacc = abcl.score(X_test,y_test)"
      ]
    },
    {
      "cell_type": "markdown",
      "id": "8d8aa9b6",
      "metadata": {
        "id": "8d8aa9b6"
      },
      "source": [
        "### Confusion Matrix AdaBoosting model"
      ]
    },
    {
      "cell_type": "code",
      "execution_count": null,
      "id": "7e69b68c",
      "metadata": {
        "id": "7e69b68c",
        "outputId": "22eca1c5-e458-4fa6-84b7-e1f6cf2489ad"
      },
      "outputs": [
        {
          "data": {
            "text/plain": [
              "<AxesSubplot:>"
            ]
          },
          "execution_count": 242,
          "metadata": {},
          "output_type": "execute_result"
        }
      ],
      "source": [
        "cm = metrics.confusion_matrix(y_test, y_pred_abcl, labels=[1,0])\n",
        "\n",
        "df_cm = pd.DataFrame(cm, index = [i for i in [\"1\",\"0\"]],\n",
        "                         columns = [i for i in [\"Predict 1\", \"Predict 0\"]])\n",
        "plt.figure(figsize = (7,5))\n",
        "sns.heatmap(df_cm, annot=True, fmt='g')"
      ]
    },
    {
      "cell_type": "markdown",
      "id": "1518c4eb",
      "metadata": {
        "id": "1518c4eb"
      },
      "source": [
        "### Under Sample AdaBoost"
      ]
    },
    {
      "cell_type": "code",
      "execution_count": null,
      "id": "f014af3d",
      "metadata": {
        "id": "f014af3d",
        "outputId": "fda6a5d1-dfab-4de6-dcf7-63c3c8d5b162"
      },
      "outputs": [
        {
          "data": {
            "text/plain": [
              "{'learning_rate': 0.1, 'n_estimators': 50}"
            ]
          },
          "execution_count": 244,
          "metadata": {},
          "output_type": "execute_result"
        }
      ],
      "source": [
        "ada_grid_search(X_train_down, y_train_down)"
      ]
    },
    {
      "cell_type": "code",
      "execution_count": null,
      "id": "27cddaef",
      "metadata": {
        "id": "27cddaef",
        "outputId": "f66d3f1b-9c15-4b64-832c-92e0b1ddf3b2"
      },
      "outputs": [
        {
          "name": "stdout",
          "output_type": "stream",
          "text": [
            "1.0\n",
            "1.0\n",
            "              precision    recall  f1-score   support\n",
            "\n",
            "         0.0       1.00      1.00      1.00        72\n",
            "         1.0       1.00      1.00      1.00        48\n",
            "\n",
            "    accuracy                           1.00       120\n",
            "   macro avg       1.00      1.00      1.00       120\n",
            "weighted avg       1.00      1.00      1.00       120\n",
            "\n"
          ]
        }
      ],
      "source": [
        "abcl = AdaBoostClassifier(n_estimators=50, learning_rate = 0.1)\n",
        "abcl = abcl.fit(X_train_down, y_train_down)\n",
        "\n",
        "y_pred_abcl = abcl.predict(X_test)\n",
        "\n",
        "print(abcl.score(X_train_down, y_train_down))\n",
        "print(abcl.score(X_test,y_test))\n",
        "\n",
        "print(metrics.classification_report(y_test, y_pred_abcl))"
      ]
    },
    {
      "cell_type": "code",
      "execution_count": null,
      "id": "f114b94c",
      "metadata": {
        "id": "f114b94c",
        "outputId": "a57cab15-3780-4e0f-c399-6ab8c7f2644f"
      },
      "outputs": [
        {
          "data": {
            "text/plain": [
              "<AxesSubplot:>"
            ]
          },
          "execution_count": 246,
          "metadata": {},
          "output_type": "execute_result"
        }
      ],
      "source": [
        "cm = metrics.confusion_matrix(y_test, y_pred_abcl, labels=[1,0])\n",
        "\n",
        "df_cm = pd.DataFrame(cm, index = [i for i in [\"1\",\"0\"]],\n",
        "                         columns = [i for i in [\"Predict 1\", \"Predict 0\"]])\n",
        "plt.figure(figsize = (7,5))\n",
        "sns.heatmap(df_cm, annot=True, fmt='g')"
      ]
    },
    {
      "cell_type": "markdown",
      "id": "007b606d",
      "metadata": {
        "id": "007b606d"
      },
      "source": [
        "# Random forest classifier"
      ]
    },
    {
      "cell_type": "code",
      "execution_count": null,
      "id": "895ba3d3",
      "metadata": {
        "id": "895ba3d3"
      },
      "outputs": [],
      "source": [
        "def rf_grid_search(X, y):\n",
        "    #create a dictionary of all values we want to test\n",
        "    param_grid = {\n",
        "    'n_estimators': [5,10,20,40,50,60,70,80,100],\n",
        "    'max_features': ['auto', 'sqrt', 'log2'],\n",
        "    'max_depth' : [4,5,6,7,8],\n",
        "    'criterion' :['gini', 'entropy']\n",
        "    }\n",
        "    cv = RepeatedStratifiedKFold(n_splits=10, n_repeats=3, random_state=1)\n",
        "\n",
        "    # Random Forest model\n",
        "    rf = RandomForestClassifier()\n",
        "\n",
        "    #use gridsearch to test all values\n",
        "    rf_gscv = GridSearchCV(rf, param_grid, cv=cv, n_jobs=-1, scoring='accuracy')\n",
        "    #fit model to data\n",
        "    rf_gscv.fit(X, y)\n",
        "\n",
        "    return rf_gscv.best_params_"
      ]
    },
    {
      "cell_type": "code",
      "execution_count": null,
      "id": "369716e8",
      "metadata": {
        "id": "369716e8",
        "outputId": "a56f6e1b-504a-4129-9965-408fdffde1b7"
      },
      "outputs": [
        {
          "data": {
            "text/plain": [
              "{'criterion': 'gini',\n",
              " 'max_depth': 6,\n",
              " 'max_features': 'log2',\n",
              " 'n_estimators': 60}"
            ]
          },
          "execution_count": 254,
          "metadata": {},
          "output_type": "execute_result"
        }
      ],
      "source": [
        "from sklearn.ensemble import RandomForestClassifier\n",
        "rf_grid_search(X_train, y_train)"
      ]
    },
    {
      "cell_type": "markdown",
      "id": "4e4f70cd",
      "metadata": {
        "id": "4e4f70cd"
      },
      "source": [
        "### Over Sample Random Forest"
      ]
    },
    {
      "cell_type": "code",
      "execution_count": null,
      "id": "21f032a9",
      "metadata": {
        "id": "21f032a9",
        "outputId": "0b40b5ac-afd1-4af5-fa77-deea48323354"
      },
      "outputs": [
        {
          "name": "stdout",
          "output_type": "stream",
          "text": [
            "0.9972067039106145\n",
            "1.0\n",
            "              precision    recall  f1-score   support\n",
            "\n",
            "         0.0       1.00      1.00      1.00        72\n",
            "         1.0       1.00      1.00      1.00        48\n",
            "\n",
            "    accuracy                           1.00       120\n",
            "   macro avg       1.00      1.00      1.00       120\n",
            "weighted avg       1.00      1.00      1.00       120\n",
            "\n"
          ]
        }
      ],
      "source": [
        "rfcl = RandomForestClassifier(n_estimators=60, max_features='log2', max_depth=6, criterion='gini')\n",
        "rfcl = rfcl.fit(X_train, y_train)\n",
        "\n",
        "y_pred_rf = rfcl.predict(X_test)\n",
        "\n",
        "print(rfcl.score(X_train,y_train))\n",
        "print(rfcl.score(X_test,y_test))\n",
        "\n",
        "print(metrics.classification_report(y_test, y_pred_rf))"
      ]
    },
    {
      "cell_type": "code",
      "execution_count": null,
      "id": "4fa628e7",
      "metadata": {
        "id": "4fa628e7"
      },
      "outputs": [],
      "source": [
        "rf_tacc = rfcl.score(X_test,y_test)\n",
        "rf_train_acc = rfcl.score(X_train, y_train)"
      ]
    },
    {
      "cell_type": "markdown",
      "id": "5e3c22fd",
      "metadata": {
        "id": "5e3c22fd"
      },
      "source": [
        "### Confusion matrix of Random Forest Classifier Model"
      ]
    },
    {
      "cell_type": "code",
      "execution_count": null,
      "id": "ec6f2dfb",
      "metadata": {
        "id": "ec6f2dfb",
        "outputId": "2aa3be3b-1ffb-4c16-ae4a-edceacdcc381"
      },
      "outputs": [
        {
          "data": {
            "text/plain": [
              "<AxesSubplot:>"
            ]
          },
          "execution_count": 267,
          "metadata": {},
          "output_type": "execute_result"
        }
      ],
      "source": [
        "cm = metrics.confusion_matrix(y_test, y_pred_rf, labels=[1,0])\n",
        "\n",
        "df_cm = pd.DataFrame(cm, index = [i for i in [\"1\",\"0\"]],\n",
        "                         columns = [i for i in [\"Predict 1\", \"Predict 0\"]])\n",
        "plt.figure(figsize = (7,5))\n",
        "sns.heatmap(df_cm, annot=True, fmt='g')"
      ]
    },
    {
      "cell_type": "markdown",
      "id": "17896b36",
      "metadata": {
        "id": "17896b36"
      },
      "source": [
        "### Under Sample Random Forest"
      ]
    },
    {
      "cell_type": "code",
      "execution_count": null,
      "id": "f84bb44e",
      "metadata": {
        "id": "f84bb44e",
        "outputId": "e9dbe0f5-4a1a-428d-faaa-33fde165f7f2"
      },
      "outputs": [
        {
          "data": {
            "text/plain": [
              "{'criterion': 'gini',\n",
              " 'max_depth': 6,\n",
              " 'max_features': 'sqrt',\n",
              " 'n_estimators': 10}"
            ]
          },
          "execution_count": 294,
          "metadata": {},
          "output_type": "execute_result"
        }
      ],
      "source": [
        "rf_grid_search(X_train_down, y_train_down)"
      ]
    },
    {
      "cell_type": "code",
      "execution_count": null,
      "id": "7ae8c8c1",
      "metadata": {
        "id": "7ae8c8c1",
        "outputId": "857d7de6-0153-4af3-cdcc-e1b7429df094"
      },
      "outputs": [
        {
          "name": "stdout",
          "output_type": "stream",
          "text": [
            "0.995049504950495\n",
            "0.9833333333333333\n",
            "              precision    recall  f1-score   support\n",
            "\n",
            "         0.0       0.99      0.99      0.99        72\n",
            "         1.0       0.98      0.98      0.98        48\n",
            "\n",
            "    accuracy                           0.98       120\n",
            "   macro avg       0.98      0.98      0.98       120\n",
            "weighted avg       0.98      0.98      0.98       120\n",
            "\n"
          ]
        }
      ],
      "source": [
        "rfcl = RandomForestClassifier(n_estimators=10, max_features='sqrt', max_depth=6, criterion='gini')\n",
        "rfcl = rfcl.fit(X_train_down, y_train_down)\n",
        "\n",
        "y_pred_rf = rfcl.predict(X_test)\n",
        "\n",
        "print(rfcl.score(X_train_down,y_train_down))\n",
        "print(rfcl.score(X_test,y_test))\n",
        "\n",
        "print(metrics.classification_report(y_test, y_pred_rf))"
      ]
    },
    {
      "cell_type": "code",
      "execution_count": null,
      "id": "f14b84df",
      "metadata": {
        "id": "f14b84df",
        "outputId": "8119b271-8db0-4553-8e37-4f1da282489a"
      },
      "outputs": [
        {
          "data": {
            "text/plain": [
              "<AxesSubplot:>"
            ]
          },
          "execution_count": 298,
          "metadata": {},
          "output_type": "execute_result"
        }
      ],
      "source": [
        "cm = metrics.confusion_matrix(y_test, y_pred_rf, labels=[1,0])\n",
        "\n",
        "df_cm = pd.DataFrame(cm, index = [i for i in [\"1\",\"0\"]],\n",
        "                         columns = [i for i in [\"Predict 1\", \"Predict 0\"]])\n",
        "plt.figure(figsize = (7,5))\n",
        "sns.heatmap(df_cm, annot=True, fmt='g')"
      ]
    },
    {
      "cell_type": "markdown",
      "id": "e8035665",
      "metadata": {
        "id": "e8035665"
      },
      "source": [
        "# kNN"
      ]
    },
    {
      "cell_type": "code",
      "execution_count": null,
      "id": "f12197aa",
      "metadata": {
        "id": "f12197aa"
      },
      "outputs": [],
      "source": [
        "def knn_grid_search(X, y):\n",
        "    #create a dictionary of all values we want to test\n",
        "    k_range = list(range(1, 31))\n",
        "    param_grid = dict(n_neighbors=k_range)\n",
        "    cv = RepeatedStratifiedKFold(n_splits=10, n_repeats=3, random_state=1)\n",
        "\n",
        "    knn = KNeighborsClassifier()\n",
        "\n",
        "    #use gridsearch to test all values\n",
        "    knn_gscv = GridSearchCV(knn, param_grid, cv=cv, scoring='accuracy', n_jobs=-1)\n",
        "    #fit model to data\n",
        "    knn_gscv.fit(X, y)\n",
        "\n",
        "    return knn_gscv.best_params_"
      ]
    },
    {
      "cell_type": "code",
      "execution_count": null,
      "id": "a5f2d5cc",
      "metadata": {
        "id": "a5f2d5cc",
        "outputId": "b48fef2e-0ffb-4f91-d9b5-adf793a9b93d"
      },
      "outputs": [
        {
          "data": {
            "text/plain": [
              "{'n_neighbors': 2}"
            ]
          },
          "execution_count": 304,
          "metadata": {},
          "output_type": "execute_result"
        }
      ],
      "source": [
        "from sklearn.neighbors import KNeighborsClassifier\n",
        "knn_grid_search(X_train, y_train)"
      ]
    },
    {
      "cell_type": "markdown",
      "id": "80ef2597",
      "metadata": {
        "id": "80ef2597"
      },
      "source": [
        "### Over Sample kNN"
      ]
    },
    {
      "cell_type": "code",
      "execution_count": null,
      "id": "6bc18feb",
      "metadata": {
        "id": "6bc18feb",
        "outputId": "4bf47377-0743-4359-e57c-6e5e74b241e5"
      },
      "outputs": [
        {
          "name": "stdout",
          "output_type": "stream",
          "text": [
            "0.994413407821229\n",
            "1.0\n",
            "              precision    recall  f1-score   support\n",
            "\n",
            "         0.0       1.00      1.00      1.00        72\n",
            "         1.0       1.00      1.00      1.00        48\n",
            "\n",
            "    accuracy                           1.00       120\n",
            "   macro avg       1.00      1.00      1.00       120\n",
            "weighted avg       1.00      1.00      1.00       120\n",
            "\n"
          ]
        }
      ],
      "source": [
        "knn = KNeighborsClassifier(n_neighbors=2)\n",
        "knn.fit(X_train, y_train)\n",
        "\n",
        "y_pred_knn = knn.predict(X_test)\n",
        "\n",
        "print(knn.score(X_train, y_train))\n",
        "print(knn.score(X_test, y_test))\n",
        "\n",
        "print(metrics.classification_report(y_test, y_pred_knn))"
      ]
    },
    {
      "cell_type": "code",
      "execution_count": null,
      "id": "e7f7453c",
      "metadata": {
        "id": "e7f7453c"
      },
      "outputs": [],
      "source": [
        "knn_tacc = knn.score(X_test, y_test)\n",
        "knn_train_acc = knn.score(X_train, y_train)"
      ]
    },
    {
      "cell_type": "markdown",
      "id": "9064348c",
      "metadata": {
        "id": "9064348c"
      },
      "source": [
        "### Confusion Matrix of kNN"
      ]
    },
    {
      "cell_type": "code",
      "execution_count": null,
      "id": "66175515",
      "metadata": {
        "id": "66175515",
        "outputId": "db6621ef-b9ec-4dbb-ef62-9a0e5e50bc5e"
      },
      "outputs": [
        {
          "data": {
            "text/plain": [
              "<AxesSubplot:>"
            ]
          },
          "execution_count": 307,
          "metadata": {},
          "output_type": "execute_result"
        }
      ],
      "source": [
        "cm = metrics.confusion_matrix(y_test, y_pred_knn, labels=[1,0])\n",
        "\n",
        "df_cm = pd.DataFrame(cm, index = [i for i in [\"1\",\"0\"]],\n",
        "                         columns = [i for i in [\"Predict 1\", \"Predict 0\"]])\n",
        "plt.figure(figsize = (7,5))\n",
        "sns.heatmap(df_cm, annot=True, fmt='g')"
      ]
    },
    {
      "cell_type": "markdown",
      "id": "687b6f33",
      "metadata": {
        "id": "687b6f33"
      },
      "source": [
        "### Under Sample kNN"
      ]
    },
    {
      "cell_type": "code",
      "execution_count": null,
      "id": "39ab6c94",
      "metadata": {
        "id": "39ab6c94",
        "outputId": "1be6ced0-26b7-4ab6-9652-8dd2d6bfc7c4"
      },
      "outputs": [
        {
          "data": {
            "text/plain": [
              "{'n_neighbors': 2}"
            ]
          },
          "execution_count": 309,
          "metadata": {},
          "output_type": "execute_result"
        }
      ],
      "source": [
        "knn_grid_search(X_train_down, y_train_down)"
      ]
    },
    {
      "cell_type": "code",
      "execution_count": null,
      "id": "5712cd1a",
      "metadata": {
        "id": "5712cd1a",
        "outputId": "174b3fd1-5277-4e21-8c19-e11b1beb9a6d"
      },
      "outputs": [
        {
          "name": "stdout",
          "output_type": "stream",
          "text": [
            "1.0\n",
            "0.9916666666666667\n",
            "              precision    recall  f1-score   support\n",
            "\n",
            "         0.0       1.00      0.99      0.99        72\n",
            "         1.0       0.98      1.00      0.99        48\n",
            "\n",
            "    accuracy                           0.99       120\n",
            "   macro avg       0.99      0.99      0.99       120\n",
            "weighted avg       0.99      0.99      0.99       120\n",
            "\n"
          ]
        }
      ],
      "source": [
        "knn = KNeighborsClassifier(n_neighbors=1)\n",
        "knn.fit(X_train_down, y_train_down)\n",
        "\n",
        "y_pred_knn = knn.predict(X_test)\n",
        "\n",
        "print(knn.score(X_train_down, y_train_down))\n",
        "print(knn.score(X_test, y_test))\n",
        "\n",
        "print(metrics.classification_report(y_test, y_pred_knn))"
      ]
    },
    {
      "cell_type": "code",
      "execution_count": null,
      "id": "51f852d9",
      "metadata": {
        "id": "51f852d9",
        "outputId": "32973b8c-fc66-4fa8-a4b0-3361a4cfa1bb"
      },
      "outputs": [
        {
          "data": {
            "text/plain": [
              "<AxesSubplot:>"
            ]
          },
          "execution_count": 311,
          "metadata": {},
          "output_type": "execute_result"
        }
      ],
      "source": [
        "cm = metrics.confusion_matrix(y_test, y_pred_knn, labels=[1,0])\n",
        "\n",
        "df_cm = pd.DataFrame(cm, index = [i for i in [\"1\",\"0\"]],\n",
        "                         columns = [i for i in [\"Predict 1\", \"Predict 0\"]])\n",
        "plt.figure(figsize = (7,5))\n",
        "sns.heatmap(df_cm, annot=True, fmt='g')"
      ]
    },
    {
      "cell_type": "markdown",
      "id": "501eac97",
      "metadata": {
        "id": "501eac97"
      },
      "source": [
        "# SVM"
      ]
    },
    {
      "cell_type": "code",
      "execution_count": null,
      "id": "acee1606",
      "metadata": {
        "id": "acee1606"
      },
      "outputs": [],
      "source": [
        "def svm_grid_search(X, y):\n",
        "    #create a dictionary of all values we want to test\n",
        "    param_grid = {'C': [0.1,1, 10, 100], 'gamma': [1,0.1,0.01,0.001, 0.4, 0.2, 0.8],'kernel': ['rbf', 'poly', 'sigmoid']}\n",
        "    cv = RepeatedStratifiedKFold(n_splits=10, n_repeats=3, random_state=1)\n",
        "\n",
        "    svm = SVC()\n",
        "\n",
        "    #use gridsearch to test all values\n",
        "    svm_gscv = RandomizedSearchCV(estimator = svm,\n",
        "                           param_distributions = param_grid,\n",
        "                           scoring = 'accuracy',\n",
        "                           cv = cv,\n",
        "                           n_jobs = -1)\n",
        "    #fit model to data\n",
        "    svm_gscv.fit(X, y)\n",
        "\n",
        "    return svm_gscv.best_params_"
      ]
    },
    {
      "cell_type": "code",
      "execution_count": null,
      "id": "38c87124",
      "metadata": {
        "id": "38c87124",
        "outputId": "0e10f17b-e78b-4e08-cfdf-11b3c4835624"
      },
      "outputs": [
        {
          "data": {
            "text/plain": [
              "{'kernel': 'rbf', 'gamma': 1, 'C': 100}"
            ]
          },
          "execution_count": 314,
          "metadata": {},
          "output_type": "execute_result"
        }
      ],
      "source": [
        "from sklearn.model_selection import RandomizedSearchCV\n",
        "svm_grid_search(X_train, y_train)"
      ]
    },
    {
      "cell_type": "markdown",
      "id": "e2c58f31",
      "metadata": {
        "id": "e2c58f31"
      },
      "source": [
        "### Over Sample SVM"
      ]
    },
    {
      "cell_type": "code",
      "execution_count": null,
      "id": "4e7419b2",
      "metadata": {
        "id": "4e7419b2",
        "outputId": "6be987cd-736b-40fd-9670-04c01ee42d32"
      },
      "outputs": [
        {
          "name": "stdout",
          "output_type": "stream",
          "text": [
            "1.0\n",
            "0.9916666666666667\n",
            "              precision    recall  f1-score   support\n",
            "\n",
            "         0.0       0.99      1.00      0.99        72\n",
            "         1.0       1.00      0.98      0.99        48\n",
            "\n",
            "    accuracy                           0.99       120\n",
            "   macro avg       0.99      0.99      0.99       120\n",
            "weighted avg       0.99      0.99      0.99       120\n",
            "\n"
          ]
        }
      ],
      "source": [
        "from sklearn import svm\n",
        "svm = SVC(gamma=1, C=100, kernel='rbf', probability=True)\n",
        "\n",
        "svm.fit(X_train, y_train)\n",
        "\n",
        "y_pred_svm = svm.predict(X_test)\n",
        "\n",
        "print(svm.score(X_train, y_train))\n",
        "print(svm.score(X_test, y_test))\n",
        "\n",
        "print(metrics.classification_report(y_test, y_pred_svm))"
      ]
    },
    {
      "cell_type": "code",
      "execution_count": null,
      "id": "7aec7e7e",
      "metadata": {
        "id": "7aec7e7e"
      },
      "outputs": [],
      "source": [
        "svm_tacc = svm.score(X_test, y_test)\n",
        "svm_train_acc = svm.score(X_train, y_train)"
      ]
    },
    {
      "cell_type": "markdown",
      "id": "cac37351",
      "metadata": {
        "id": "cac37351"
      },
      "source": [
        "### Confusion Matrix of SVM"
      ]
    },
    {
      "cell_type": "code",
      "execution_count": null,
      "id": "a673e639",
      "metadata": {
        "id": "a673e639",
        "outputId": "1be7781a-5626-4760-8792-578ca9a5700d"
      },
      "outputs": [
        {
          "data": {
            "text/plain": [
              "<AxesSubplot:>"
            ]
          },
          "execution_count": 317,
          "metadata": {},
          "output_type": "execute_result"
        }
      ],
      "source": [
        "cm = metrics.confusion_matrix(y_test, y_pred_svm, labels=[1,0])\n",
        "\n",
        "df_cm = pd.DataFrame(cm, index = [i for i in [\"1\",\"0\"]],\n",
        "                         columns = [i for i in [\"Predict 1\", \"Predict 0\"]])\n",
        "plt.figure(figsize = (7,5))\n",
        "sns.heatmap(df_cm, annot=True, fmt='g')"
      ]
    },
    {
      "cell_type": "markdown",
      "id": "878b5f90",
      "metadata": {
        "id": "878b5f90"
      },
      "source": [
        "### Under Sample SVM"
      ]
    },
    {
      "cell_type": "code",
      "execution_count": null,
      "id": "318c804a",
      "metadata": {
        "id": "318c804a",
        "outputId": "f8925bc2-f067-4c28-cf76-00941a5f2e3b"
      },
      "outputs": [
        {
          "data": {
            "text/plain": [
              "{'kernel': 'poly', 'gamma': 1, 'C': 0.1}"
            ]
          },
          "execution_count": 318,
          "metadata": {},
          "output_type": "execute_result"
        }
      ],
      "source": [
        "svm_grid_search(X_train_down, y_train_down)"
      ]
    },
    {
      "cell_type": "code",
      "execution_count": null,
      "id": "47bcc13e",
      "metadata": {
        "id": "47bcc13e",
        "outputId": "40d77e1b-dc5a-47f7-d04d-93f60ce84217"
      },
      "outputs": [
        {
          "name": "stdout",
          "output_type": "stream",
          "text": [
            "0.995049504950495\n",
            "0.9833333333333333\n",
            "              precision    recall  f1-score   support\n",
            "\n",
            "         0.0       1.00      0.97      0.99        72\n",
            "         1.0       0.96      1.00      0.98        48\n",
            "\n",
            "    accuracy                           0.98       120\n",
            "   macro avg       0.98      0.99      0.98       120\n",
            "weighted avg       0.98      0.98      0.98       120\n",
            "\n"
          ]
        }
      ],
      "source": [
        "from sklearn import svm\n",
        "svm = SVC(gamma=1, C=0.1, kernel='poly', probability=True)\n",
        "\n",
        "svm.fit(X_train_down, y_train_down)\n",
        "\n",
        "y_pred_svm = svm.predict(X_test)\n",
        "\n",
        "print(svm.score(X_train_down, y_train_down))\n",
        "print(svm.score(X_test, y_test))\n",
        "\n",
        "print(metrics.classification_report(y_test, y_pred_svm))"
      ]
    },
    {
      "cell_type": "code",
      "execution_count": null,
      "id": "4b817383",
      "metadata": {
        "id": "4b817383",
        "outputId": "ec44ad64-83cf-4bd1-a0cb-bf63dd23da07"
      },
      "outputs": [
        {
          "data": {
            "text/plain": [
              "<AxesSubplot:>"
            ]
          },
          "execution_count": 321,
          "metadata": {},
          "output_type": "execute_result"
        }
      ],
      "source": [
        "cm = metrics.confusion_matrix(y_test, y_pred_svm, labels=[1,0])\n",
        "\n",
        "df_cm = pd.DataFrame(cm, index = [i for i in [\"1\",\"0\"]],\n",
        "                         columns = [i for i in [\"Predict 1\", \"Predict 0\"]])\n",
        "plt.figure(figsize = (7,5))\n",
        "sns.heatmap(df_cm, annot=True, fmt='g')"
      ]
    },
    {
      "cell_type": "markdown",
      "id": "ae2c30cf",
      "metadata": {
        "id": "ae2c30cf"
      },
      "source": [
        "# Comparision of all Models"
      ]
    },
    {
      "cell_type": "code",
      "execution_count": null,
      "id": "ed8f50e7",
      "metadata": {
        "id": "ed8f50e7"
      },
      "outputs": [],
      "source": [
        "def comp_model(model_list, model_train_acc_list, model_test_acc_list):\n",
        "    data = {\"Model Name\": model_list, \"Train Accuracy(%)\": [i*100 for i in model_train_acc_list], \"Test Accuracy(%)\": [i*100 for i in model_test_acc_list]}\n",
        "    Comparision = pd.DataFrame(data)\n",
        "    return Comparision"
      ]
    },
    {
      "cell_type": "code",
      "execution_count": null,
      "id": "0a6aaa45",
      "metadata": {
        "id": "0a6aaa45",
        "outputId": "bc00c01b-b8cf-4a54-b052-25420e10b122"
      },
      "outputs": [
        {
          "data": {
            "text/html": [
              "<div>\n",
              "<style scoped>\n",
              "    .dataframe tbody tr th:only-of-type {\n",
              "        vertical-align: middle;\n",
              "    }\n",
              "\n",
              "    .dataframe tbody tr th {\n",
              "        vertical-align: top;\n",
              "    }\n",
              "\n",
              "    .dataframe thead th {\n",
              "        text-align: right;\n",
              "    }\n",
              "</style>\n",
              "<table border=\"1\" class=\"dataframe\">\n",
              "  <thead>\n",
              "    <tr style=\"text-align: right;\">\n",
              "      <th></th>\n",
              "      <th>Model Name</th>\n",
              "      <th>Train Accuracy(%)</th>\n",
              "      <th>Test Accuracy(%)</th>\n",
              "    </tr>\n",
              "  </thead>\n",
              "  <tbody>\n",
              "    <tr>\n",
              "      <th>0</th>\n",
              "      <td>Logistic Regression</td>\n",
              "      <td>99.441341</td>\n",
              "      <td>100.000000</td>\n",
              "    </tr>\n",
              "    <tr>\n",
              "      <th>1</th>\n",
              "      <td>Decision Tree Classifier</td>\n",
              "      <td>100.000000</td>\n",
              "      <td>98.333333</td>\n",
              "    </tr>\n",
              "    <tr>\n",
              "      <th>2</th>\n",
              "      <td>AdaBoost</td>\n",
              "      <td>99.720670</td>\n",
              "      <td>100.000000</td>\n",
              "    </tr>\n",
              "    <tr>\n",
              "      <th>3</th>\n",
              "      <td>Random Forest Classifier</td>\n",
              "      <td>99.720670</td>\n",
              "      <td>100.000000</td>\n",
              "    </tr>\n",
              "    <tr>\n",
              "      <th>4</th>\n",
              "      <td>kNN</td>\n",
              "      <td>99.441341</td>\n",
              "      <td>100.000000</td>\n",
              "    </tr>\n",
              "    <tr>\n",
              "      <th>5</th>\n",
              "      <td>SVM</td>\n",
              "      <td>100.000000</td>\n",
              "      <td>99.166667</td>\n",
              "    </tr>\n",
              "  </tbody>\n",
              "</table>\n",
              "</div>"
            ],
            "text/plain": [
              "                 Model Name  Train Accuracy(%)  Test Accuracy(%)\n",
              "0       Logistic Regression          99.441341        100.000000\n",
              "1  Decision Tree Classifier         100.000000         98.333333\n",
              "2                  AdaBoost          99.720670        100.000000\n",
              "3  Random Forest Classifier          99.720670        100.000000\n",
              "4                       kNN          99.441341        100.000000\n",
              "5                       SVM         100.000000         99.166667"
            ]
          },
          "execution_count": 327,
          "metadata": {},
          "output_type": "execute_result"
        }
      ],
      "source": [
        "model_list = [\"Logistic Regression\", \"Decision Tree Classifier\", \"AdaBoost\", \"Random Forest Classifier\", \"kNN\", \"SVM\"]\n",
        "model_train_acc_list = [lr_train_acc, dt_train_acc, ada_train_acc, rf_train_acc, knn_train_acc, svm_train_acc]\n",
        "model_test_acc_list = [lr_tacc, dt_tacc, ada_tacc, rf_tacc, knn_tacc, svm_tacc]\n",
        "comp_model(model_list, model_train_acc_list, model_test_acc_list)"
      ]
    },
    {
      "cell_type": "code",
      "execution_count": null,
      "id": "b2c348be",
      "metadata": {
        "id": "b2c348be"
      },
      "outputs": [],
      "source": []
    }
  ],
  "metadata": {
    "kernelspec": {
      "display_name": "Python 3 (ipykernel)",
      "language": "python",
      "name": "python3"
    },
    "language_info": {
      "codemirror_mode": {
        "name": "ipython",
        "version": 3
      },
      "file_extension": ".py",
      "mimetype": "text/x-python",
      "name": "python",
      "nbconvert_exporter": "python",
      "pygments_lexer": "ipython3",
      "version": "3.9.13"
    },
    "colab": {
      "provenance": []
    }
  },
  "nbformat": 4,
  "nbformat_minor": 5
}